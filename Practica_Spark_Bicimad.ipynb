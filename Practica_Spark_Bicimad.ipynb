{
  "nbformat": 4,
  "nbformat_minor": 0,
  "metadata": {
    "colab": {
      "name": "Practica_Spark_Bicimad.ipynb",
      "provenance": [],
      "collapsed_sections": [],
      "toc_visible": true,
      "include_colab_link": true
    },
    "kernelspec": {
      "name": "python3",
      "display_name": "Python 3"
    }
  },
  "cells": [
    {
      "cell_type": "markdown",
      "metadata": {
        "id": "view-in-github",
        "colab_type": "text"
      },
      "source": [
        "<a href=\"https://colab.research.google.com/github/bernardobernardob/inC/blob/master/Practica_Spark_Bicimad.ipynb\" target=\"_parent\"><img src=\"https://colab.research.google.com/assets/colab-badge.svg\" alt=\"Open In Colab\"/></a>"
      ]
    },
    {
      "cell_type": "markdown",
      "metadata": {
        "id": "AlSjamwcsDhs",
        "colab_type": "text"
      },
      "source": [
        "---\n",
        "#Setup\n",
        "Instalamos y configuramos las herramientas necesarias para empezar a trabajar\n"
      ]
    },
    {
      "cell_type": "code",
      "metadata": {
        "id": "LiuGD8SErVEL",
        "colab_type": "code",
        "colab": {}
      },
      "source": [
        "!apt-get install openjdk-8-jdk\n",
        "!apt install unzip\n",
        "import os\n",
        "os.environ[\"JAVA_HOME\"] = \"/usr/lib/jvm/java-8-openjdk-amd64\"\n",
        "!pip install pyspark"
      ],
      "execution_count": 0,
      "outputs": []
    },
    {
      "cell_type": "code",
      "metadata": {
        "id": "JNoyd7gjub48",
        "colab_type": "code",
        "colab": {}
      },
      "source": [
        "!apt install unzip"
      ],
      "execution_count": 0,
      "outputs": []
    },
    {
      "cell_type": "markdown",
      "metadata": {
        "id": "_zZiFmRTpZqH",
        "colab_type": "text"
      },
      "source": [
        "---\n",
        "\n",
        "#**Descargamos los datasets de bicibad**\n",
        "\n",
        "Descargaremos cada dataset de la [web oficial](https://opendata.emtmadrid.es/Datos-estaticos/Datos-generales-(1)) de **biciMAD**. Los renombraremos a '*.zip*' para poder descomprimirlos y una vez descomprimidos los movemos a la carpeta '*datasets*'. Por último eliminamos los ficheros comprimidos."
      ]
    },
    {
      "cell_type": "code",
      "metadata": {
        "id": "srvXiN2wsP1m",
        "colab_type": "code",
        "colab": {}
      },
      "source": [
        "#Carpeta para el dataset\n",
        "!mkdir dataset"
      ],
      "execution_count": 0,
      "outputs": []
    },
    {
      "cell_type": "code",
      "metadata": {
        "id": "E_mygi1Tp_9W",
        "colab_type": "code",
        "outputId": "83061940-0521-4da8-b52a-d5d4802d599a",
        "colab": {
          "base_uri": "https://localhost:8080/",
          "height": 258
        }
      },
      "source": [
        "#Enero de 2019\n",
        "!wget -N \"https://opendata.emtmadrid.es/getattachment/2ebcc70a-4914-43c6-9ada-a0f0520032a4/201901_Usage_Bicimad.aspx\"\n",
        "!mv 201901_Usage_Bicimad.aspx 201901_Usage_Bicimad.zip\n",
        "!unzip 201901_Usage_Bicimad.zip\n",
        "!mv 201901_Usage_Bicimad.json dataset\n",
        "!rm 201901_Usage_Bicimad.zip"
      ],
      "execution_count": 5,
      "outputs": [
        {
          "output_type": "stream",
          "text": [
            "--2020-05-24 16:08:50--  https://opendata.emtmadrid.es/getattachment/2ebcc70a-4914-43c6-9ada-a0f0520032a4/201901_Usage_Bicimad.aspx\n",
            "Resolving opendata.emtmadrid.es (opendata.emtmadrid.es)... 185.79.130.130\n",
            "Connecting to opendata.emtmadrid.es (opendata.emtmadrid.es)|185.79.130.130|:443... connected.\n",
            "HTTP request sent, awaiting response... 200 OK\n",
            "Length: 78311972 (75M) [application/zip]\n",
            "Saving to: ‘201901_Usage_Bicimad.aspx’\n",
            "\n",
            "201901_Usage_Bicima 100%[===================>]  74.68M   428KB/s    in 1m 52s  \n",
            "\n",
            "2020-05-24 16:10:44 (683 KB/s) - ‘201901_Usage_Bicimad.aspx’ saved [78311972/78311972]\n",
            "\n",
            "Archive:  201901_Usage_Bicimad.zip\n",
            "  inflating: 201901_Usage_Bicimad.json  \n"
          ],
          "name": "stdout"
        }
      ]
    },
    {
      "cell_type": "code",
      "metadata": {
        "colab_type": "code",
        "id": "pUXYeehiwWDp",
        "colab": {}
      },
      "source": [
        "#Febrero de 2019\n",
        "!wget -N \"https://opendata.emtmadrid.es/getattachment/aa8c34d2-ddba-46d9-b6db-882c0b4a12f0/201902_Usage_Bicimad.aspx\"\n",
        "!mv 201902_Usage_Bicimad.aspx 201902_Usage_Bicimad.zip \n",
        "!unzip 201902_Usage_Bicimad.zip\n",
        "!mv 201902_Usage_Bicimad.json dataset\n",
        "!rm 201902_Usage_Bicimad.zip"
      ],
      "execution_count": 0,
      "outputs": []
    },
    {
      "cell_type": "code",
      "metadata": {
        "colab_type": "code",
        "id": "08NfgOWiwWaD",
        "colab": {}
      },
      "source": [
        "#Junio de 2019\n",
        "!wget -N \"https://opendata.emtmadrid.es/getattachment/7517a650-ccdf-4ab1-b1b0-a1d13694472e/201906_Usage_Bicimad.aspx\"\n",
        "!mv 201906_Usage_Bicimad.aspx 201906_Usage_Bicimad.zip\n",
        "!unzip 201906_Usage_Bicimad.zip\n",
        "!mv 201906_Usage_Bicimad.json dataset\n",
        "!rm 201906_Usage_Bicimad.zip"
      ],
      "execution_count": 0,
      "outputs": []
    },
    {
      "cell_type": "markdown",
      "metadata": {
        "id": "GJdqqnxu3CPh",
        "colab_type": "text"
      },
      "source": [
        "---\n",
        "#Ahora ya podemos empezar:"
      ]
    },
    {
      "cell_type": "code",
      "metadata": {
        "id": "33X2ppcc4XeF",
        "colab_type": "code",
        "colab": {}
      },
      "source": [
        "#Aquí ya podemos empezar a trabajar\n",
        "import json\n",
        "from pyspark import SparkContext\n",
        "sc = SparkContext()"
      ],
      "execution_count": 0,
      "outputs": []
    },
    {
      "cell_type": "code",
      "metadata": {
        "id": "ibPV6VOqarxx",
        "colab_type": "code",
        "colab": {}
      },
      "source": [
        "rdd_raw  = sc.textFile('/content/dataset/201901_Usage_Bicimad.json')"
      ],
      "execution_count": 0,
      "outputs": []
    },
    {
      "cell_type": "code",
      "metadata": {
        "id": "DwPNQWkLdKLa",
        "colab_type": "code",
        "colab": {}
      },
      "source": [
        "rdd_raw.take(1)"
      ],
      "execution_count": 0,
      "outputs": []
    },
    {
      "cell_type": "code",
      "metadata": {
        "id": "osJ5F_5NaDZg",
        "colab_type": "code",
        "colab": {}
      },
      "source": [
        "def mapper(line):\n",
        "    data = json.loads(line)\n",
        "    id_usuario = data['_id']['$oid']\n",
        "    rango_edad = data['ageRange']\n",
        "    tipo_usuario = data['user_type']\n",
        "    id_usuario_dia = data['user_day_code']\n",
        "    start = data['idunplug_station']\n",
        "    end = data['idplug_station']\n",
        "    time = data['travel_time']\n",
        "    dia = data['unplug_hourTime']['$date'][:10]\n",
        "    hora = data['unplug_hourTime']['$date'][11:12]\n",
        "    return id_usuario, rango_edad\n",
        "    '''\n",
        "    return u_t, u_c, start, end, time\n",
        "    '''"
      ],
      "execution_count": 0,
      "outputs": []
    },
    {
      "cell_type": "code",
      "metadata": {
        "id": "3zzmM1wEa30w",
        "colab_type": "code",
        "colab": {}
      },
      "source": [
        "rdd = rdd_raw.map(mapper)"
      ],
      "execution_count": 0,
      "outputs": []
    },
    {
      "cell_type": "code",
      "metadata": {
        "id": "2zo7NHB6a8jW",
        "colab_type": "code",
        "outputId": "9183a7c7-c363-4217-9a9e-78b5bfbcada6",
        "colab": {
          "base_uri": "https://localhost:8080/",
          "height": 102
        }
      },
      "source": [
        "rdd.take(5)"
      ],
      "execution_count": 18,
      "outputs": [
        {
          "output_type": "execute_result",
          "data": {
            "text/plain": [
              "[('5c4b07ea2f38432e007daab8', 0),\n",
              " ('5c4b07ea2f38432e007daaba', 5),\n",
              " ('5c4b07ea2f38432e007daabb', 0),\n",
              " ('5c4b07ea2f38432e007daabd', 3),\n",
              " ('5c4b07ea2f38432e007daabe', 4)]"
            ]
          },
          "metadata": {
            "tags": []
          },
          "execution_count": 18
        }
      ]
    }
  ]
}