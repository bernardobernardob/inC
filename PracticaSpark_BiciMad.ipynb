{
  "nbformat": 4,
  "nbformat_minor": 0,
  "metadata": {
    "colab": {
      "name": "Copia de PracticaSpark_BiciMad.ipynb",
      "provenance": [],
      "collapsed_sections": [
        "o6JLekeSkduf",
        "9xB2HI4RlCAv",
        "6l1JrKnQlPbm",
        "-C02tMVwlhC8",
        "KosiIgA650BR",
        "5HHl--Qv6IJR",
        "e9ygIuq90ZUV",
        "uiIEjE3OCNa2",
        "aSZkdz0uBYDC",
        "A5-Zr47G_ogp",
        "c51Tzz5PWhSO",
        "oi520IrV15h-"
      ],
      "toc_visible": true,
      "include_colab_link": true
    },
    "kernelspec": {
      "name": "python3",
      "display_name": "Python 3"
    }
  },
  "cells": [
    {
      "cell_type": "markdown",
      "metadata": {
        "id": "view-in-github",
        "colab_type": "text"
      },
      "source": [
        "<a href=\"https://colab.research.google.com/github/bernardobernardob/inC/blob/master/PracticaSpark_BiciMad.ipynb\" target=\"_parent\"><img src=\"https://colab.research.google.com/assets/colab-badge.svg\" alt=\"Open In Colab\"/></a>"
      ]
    },
    {
      "cell_type": "markdown",
      "metadata": {
        "id": "o6JLekeSkduf",
        "colab_type": "text"
      },
      "source": [
        "# **Setup**\n",
        "\n",
        "Instalamos y configuramos las herramientas necesarias para empezar a trabajar"
      ]
    },
    {
      "cell_type": "code",
      "metadata": {
        "id": "1dvQgdvjkcPT",
        "colab_type": "code",
        "outputId": "05ab1732-6728-4086-ec93-a794601af3b0",
        "colab": {
          "base_uri": "https://localhost:8080/",
          "height": 1000
        }
      },
      "source": [
        "!apt-get install openjdk-8-jdk\n",
        "\n",
        "import os\n",
        "os.environ[\"JAVA_HOME\"] = \"/usr/lib/jvm/java-8-openjdk-amd64\"\n",
        "\n",
        "!pip install pyspark"
      ],
      "execution_count": 1,
      "outputs": [
        {
          "output_type": "stream",
          "text": [
            "Reading package lists... Done\n",
            "Building dependency tree       \n",
            "Reading state information... Done\n",
            "The following package was automatically installed and is no longer required:\n",
            "  libnvidia-common-440\n",
            "Use 'apt autoremove' to remove it.\n",
            "The following additional packages will be installed:\n",
            "  fonts-dejavu-core fonts-dejavu-extra libatk-wrapper-java\n",
            "  libatk-wrapper-java-jni libxxf86dga1 openjdk-8-jdk-headless openjdk-8-jre\n",
            "  openjdk-8-jre-headless x11-utils\n",
            "Suggested packages:\n",
            "  openjdk-8-demo openjdk-8-source visualvm icedtea-8-plugin libnss-mdns\n",
            "  fonts-ipafont-gothic fonts-ipafont-mincho fonts-wqy-microhei\n",
            "  fonts-wqy-zenhei fonts-indic mesa-utils\n",
            "The following NEW packages will be installed:\n",
            "  fonts-dejavu-core fonts-dejavu-extra libatk-wrapper-java\n",
            "  libatk-wrapper-java-jni libxxf86dga1 openjdk-8-jdk openjdk-8-jdk-headless\n",
            "  openjdk-8-jre openjdk-8-jre-headless x11-utils\n",
            "0 upgraded, 10 newly installed, 0 to remove and 43 not upgraded.\n",
            "Need to get 40.7 MB of archives.\n",
            "After this operation, 153 MB of additional disk space will be used.\n",
            "Get:1 http://archive.ubuntu.com/ubuntu bionic/main amd64 libxxf86dga1 amd64 2:1.1.4-1 [13.7 kB]\n",
            "Get:2 http://archive.ubuntu.com/ubuntu bionic/main amd64 fonts-dejavu-core all 2.37-1 [1,041 kB]\n",
            "Get:3 http://archive.ubuntu.com/ubuntu bionic/main amd64 fonts-dejavu-extra all 2.37-1 [1,953 kB]\n",
            "Get:4 http://archive.ubuntu.com/ubuntu bionic/main amd64 x11-utils amd64 7.7+3build1 [196 kB]\n",
            "Get:5 http://archive.ubuntu.com/ubuntu bionic/main amd64 libatk-wrapper-java all 0.33.3-20ubuntu0.1 [34.7 kB]\n",
            "Get:6 http://archive.ubuntu.com/ubuntu bionic/main amd64 libatk-wrapper-java-jni amd64 0.33.3-20ubuntu0.1 [28.3 kB]\n",
            "Get:7 http://archive.ubuntu.com/ubuntu bionic-updates/universe amd64 openjdk-8-jre-headless amd64 8u252-b09-1~18.04 [27.5 MB]\n",
            "Get:8 http://archive.ubuntu.com/ubuntu bionic-updates/universe amd64 openjdk-8-jre amd64 8u252-b09-1~18.04 [69.8 kB]\n",
            "Get:9 http://archive.ubuntu.com/ubuntu bionic-updates/universe amd64 openjdk-8-jdk-headless amd64 8u252-b09-1~18.04 [8,250 kB]\n",
            "Get:10 http://archive.ubuntu.com/ubuntu bionic-updates/universe amd64 openjdk-8-jdk amd64 8u252-b09-1~18.04 [1,622 kB]\n",
            "Fetched 40.7 MB in 3s (12.7 MB/s)\n",
            "Selecting previously unselected package libxxf86dga1:amd64.\n",
            "(Reading database ... 144328 files and directories currently installed.)\n",
            "Preparing to unpack .../0-libxxf86dga1_2%3a1.1.4-1_amd64.deb ...\n",
            "Unpacking libxxf86dga1:amd64 (2:1.1.4-1) ...\n",
            "Selecting previously unselected package fonts-dejavu-core.\n",
            "Preparing to unpack .../1-fonts-dejavu-core_2.37-1_all.deb ...\n",
            "Unpacking fonts-dejavu-core (2.37-1) ...\n",
            "Selecting previously unselected package fonts-dejavu-extra.\n",
            "Preparing to unpack .../2-fonts-dejavu-extra_2.37-1_all.deb ...\n",
            "Unpacking fonts-dejavu-extra (2.37-1) ...\n",
            "Selecting previously unselected package x11-utils.\n",
            "Preparing to unpack .../3-x11-utils_7.7+3build1_amd64.deb ...\n",
            "Unpacking x11-utils (7.7+3build1) ...\n",
            "Selecting previously unselected package libatk-wrapper-java.\n",
            "Preparing to unpack .../4-libatk-wrapper-java_0.33.3-20ubuntu0.1_all.deb ...\n",
            "Unpacking libatk-wrapper-java (0.33.3-20ubuntu0.1) ...\n",
            "Selecting previously unselected package libatk-wrapper-java-jni:amd64.\n",
            "Preparing to unpack .../5-libatk-wrapper-java-jni_0.33.3-20ubuntu0.1_amd64.deb ...\n",
            "Unpacking libatk-wrapper-java-jni:amd64 (0.33.3-20ubuntu0.1) ...\n",
            "Selecting previously unselected package openjdk-8-jre-headless:amd64.\n",
            "Preparing to unpack .../6-openjdk-8-jre-headless_8u252-b09-1~18.04_amd64.deb ...\n",
            "Unpacking openjdk-8-jre-headless:amd64 (8u252-b09-1~18.04) ...\n",
            "Selecting previously unselected package openjdk-8-jre:amd64.\n",
            "Preparing to unpack .../7-openjdk-8-jre_8u252-b09-1~18.04_amd64.deb ...\n",
            "Unpacking openjdk-8-jre:amd64 (8u252-b09-1~18.04) ...\n",
            "Selecting previously unselected package openjdk-8-jdk-headless:amd64.\n",
            "Preparing to unpack .../8-openjdk-8-jdk-headless_8u252-b09-1~18.04_amd64.deb ...\n",
            "Unpacking openjdk-8-jdk-headless:amd64 (8u252-b09-1~18.04) ...\n",
            "Selecting previously unselected package openjdk-8-jdk:amd64.\n",
            "Preparing to unpack .../9-openjdk-8-jdk_8u252-b09-1~18.04_amd64.deb ...\n",
            "Unpacking openjdk-8-jdk:amd64 (8u252-b09-1~18.04) ...\n",
            "Setting up fonts-dejavu-core (2.37-1) ...\n",
            "Setting up libxxf86dga1:amd64 (2:1.1.4-1) ...\n",
            "Setting up fonts-dejavu-extra (2.37-1) ...\n",
            "Setting up openjdk-8-jre-headless:amd64 (8u252-b09-1~18.04) ...\n",
            "update-alternatives: using /usr/lib/jvm/java-8-openjdk-amd64/jre/bin/orbd to provide /usr/bin/orbd (orbd) in auto mode\n",
            "update-alternatives: using /usr/lib/jvm/java-8-openjdk-amd64/jre/bin/servertool to provide /usr/bin/servertool (servertool) in auto mode\n",
            "update-alternatives: using /usr/lib/jvm/java-8-openjdk-amd64/jre/bin/tnameserv to provide /usr/bin/tnameserv (tnameserv) in auto mode\n",
            "Setting up openjdk-8-jdk-headless:amd64 (8u252-b09-1~18.04) ...\n",
            "update-alternatives: using /usr/lib/jvm/java-8-openjdk-amd64/bin/idlj to provide /usr/bin/idlj (idlj) in auto mode\n",
            "update-alternatives: using /usr/lib/jvm/java-8-openjdk-amd64/bin/wsimport to provide /usr/bin/wsimport (wsimport) in auto mode\n",
            "update-alternatives: using /usr/lib/jvm/java-8-openjdk-amd64/bin/jsadebugd to provide /usr/bin/jsadebugd (jsadebugd) in auto mode\n",
            "update-alternatives: using /usr/lib/jvm/java-8-openjdk-amd64/bin/native2ascii to provide /usr/bin/native2ascii (native2ascii) in auto mode\n",
            "update-alternatives: using /usr/lib/jvm/java-8-openjdk-amd64/bin/javah to provide /usr/bin/javah (javah) in auto mode\n",
            "update-alternatives: using /usr/lib/jvm/java-8-openjdk-amd64/bin/clhsdb to provide /usr/bin/clhsdb (clhsdb) in auto mode\n",
            "update-alternatives: using /usr/lib/jvm/java-8-openjdk-amd64/bin/extcheck to provide /usr/bin/extcheck (extcheck) in auto mode\n",
            "update-alternatives: using /usr/lib/jvm/java-8-openjdk-amd64/bin/hsdb to provide /usr/bin/hsdb (hsdb) in auto mode\n",
            "update-alternatives: using /usr/lib/jvm/java-8-openjdk-amd64/bin/schemagen to provide /usr/bin/schemagen (schemagen) in auto mode\n",
            "update-alternatives: using /usr/lib/jvm/java-8-openjdk-amd64/bin/xjc to provide /usr/bin/xjc (xjc) in auto mode\n",
            "update-alternatives: using /usr/lib/jvm/java-8-openjdk-amd64/bin/jhat to provide /usr/bin/jhat (jhat) in auto mode\n",
            "update-alternatives: using /usr/lib/jvm/java-8-openjdk-amd64/bin/wsgen to provide /usr/bin/wsgen (wsgen) in auto mode\n",
            "Setting up x11-utils (7.7+3build1) ...\n",
            "Setting up libatk-wrapper-java (0.33.3-20ubuntu0.1) ...\n",
            "Setting up libatk-wrapper-java-jni:amd64 (0.33.3-20ubuntu0.1) ...\n",
            "Setting up openjdk-8-jre:amd64 (8u252-b09-1~18.04) ...\n",
            "update-alternatives: using /usr/lib/jvm/java-8-openjdk-amd64/jre/bin/policytool to provide /usr/bin/policytool (policytool) in auto mode\n",
            "Setting up openjdk-8-jdk:amd64 (8u252-b09-1~18.04) ...\n",
            "update-alternatives: using /usr/lib/jvm/java-8-openjdk-amd64/bin/appletviewer to provide /usr/bin/appletviewer (appletviewer) in auto mode\n",
            "update-alternatives: using /usr/lib/jvm/java-8-openjdk-amd64/bin/jconsole to provide /usr/bin/jconsole (jconsole) in auto mode\n",
            "Processing triggers for man-db (2.8.3-2ubuntu0.1) ...\n",
            "Processing triggers for hicolor-icon-theme (0.17-2) ...\n",
            "Processing triggers for fontconfig (2.12.6-0ubuntu2) ...\n",
            "Processing triggers for mime-support (3.60ubuntu1) ...\n",
            "Processing triggers for libc-bin (2.27-3ubuntu1) ...\n",
            "/sbin/ldconfig.real: /usr/local/lib/python3.6/dist-packages/ideep4py/lib/libmkldnn.so.0 is not a symbolic link\n",
            "\n",
            "Collecting pyspark\n",
            "\u001b[?25l  Downloading https://files.pythonhosted.org/packages/e9/e4/5c15ab8d354c4e3528510821865e6748209a9b0ff6a1788f4cd36cc2a5dc/pyspark-2.4.6.tar.gz (218.4MB)\n",
            "\u001b[K     |████████████████████████████████| 218.4MB 64kB/s \n",
            "\u001b[?25hCollecting py4j==0.10.7\n",
            "\u001b[?25l  Downloading https://files.pythonhosted.org/packages/e3/53/c737818eb9a7dc32a7cd4f1396e787bd94200c3997c72c1dbe028587bd76/py4j-0.10.7-py2.py3-none-any.whl (197kB)\n",
            "\u001b[K     |████████████████████████████████| 204kB 39.1MB/s \n",
            "\u001b[?25hBuilding wheels for collected packages: pyspark\n",
            "  Building wheel for pyspark (setup.py) ... \u001b[?25l\u001b[?25hdone\n",
            "  Created wheel for pyspark: filename=pyspark-2.4.6-py2.py3-none-any.whl size=218814406 sha256=2dad87e97823765a3eb68cbf10087e59ee9b357e82d76a16ab4778db289df6af\n",
            "  Stored in directory: /root/.cache/pip/wheels/1e/5e/6a/17e906c94ec7246f260330a66e44a06a0809033ba2738a74a8\n",
            "Successfully built pyspark\n",
            "Installing collected packages: py4j, pyspark\n",
            "Successfully installed py4j-0.10.7 pyspark-2.4.6\n"
          ],
          "name": "stdout"
        }
      ]
    },
    {
      "cell_type": "code",
      "metadata": {
        "id": "C1Yn_yv0kFQH",
        "colab_type": "code",
        "colab": {}
      },
      "source": [
        "import json\n",
        "import matplotlib.pyplot as plt\n",
        "import statistics as stats\n",
        "from pyspark import SparkContext"
      ],
      "execution_count": 0,
      "outputs": []
    },
    {
      "cell_type": "code",
      "metadata": {
        "id": "ZKuE1niLtpwz",
        "colab_type": "code",
        "outputId": "7fc143d4-0546-49eb-a7e2-bf9766e43f6a",
        "colab": {
          "base_uri": "https://localhost:8080/",
          "height": 122
        }
      },
      "source": [
        "!pip install patool\n",
        "\n",
        "from bs4 import BeautifulSoup\n",
        "import requests\n",
        "import zipfile\n",
        "import patoolib"
      ],
      "execution_count": 3,
      "outputs": [
        {
          "output_type": "stream",
          "text": [
            "Collecting patool\n",
            "\u001b[?25l  Downloading https://files.pythonhosted.org/packages/43/94/52243ddff508780dd2d8110964320ab4851134a55ab102285b46e740f76a/patool-1.12-py2.py3-none-any.whl (77kB)\n",
            "\r\u001b[K     |████▎                           | 10kB 19.3MB/s eta 0:00:01\r\u001b[K     |████████▌                       | 20kB 3.0MB/s eta 0:00:01\r\u001b[K     |████████████▊                   | 30kB 4.0MB/s eta 0:00:01\r\u001b[K     |█████████████████               | 40kB 4.3MB/s eta 0:00:01\r\u001b[K     |█████████████████████▏          | 51kB 3.5MB/s eta 0:00:01\r\u001b[K     |█████████████████████████▍      | 61kB 3.9MB/s eta 0:00:01\r\u001b[K     |█████████████████████████████▋  | 71kB 4.2MB/s eta 0:00:01\r\u001b[K     |████████████████████████████████| 81kB 3.4MB/s \n",
            "\u001b[?25hInstalling collected packages: patool\n",
            "Successfully installed patool-1.12\n"
          ],
          "name": "stdout"
        }
      ]
    },
    {
      "cell_type": "code",
      "metadata": {
        "id": "wewQ_aLlkFx3",
        "colab_type": "code",
        "colab": {}
      },
      "source": [
        "sc = SparkContext()"
      ],
      "execution_count": 0,
      "outputs": []
    },
    {
      "cell_type": "markdown",
      "metadata": {
        "id": "9xB2HI4RlCAv",
        "colab_type": "text"
      },
      "source": [
        "# **Descargamos los datasets de biciMAD**\n",
        "Automatizamos la obtención de los archivos de datos de la web oficial de biciMAD."
      ]
    },
    {
      "cell_type": "markdown",
      "metadata": {
        "id": "81zupuQyuzgX",
        "colab_type": "text"
      },
      "source": [
        "La función **descarga** usa los paquetes Beautiful Soup y request, automatizando la obtención de los archivos. Los renombraremos a '.zip' o '.rar' para poder descomprimirlos y reubicarlos en la carpeta 'datasets'. Por último eliminamos los ficheros comprimidos."
      ]
    },
    {
      "cell_type": "code",
      "metadata": {
        "id": "zynUfS6zlO2x",
        "colab_type": "code",
        "colab": {}
      },
      "source": [
        "#Estructura de carpetas para el dataset\n",
        "!mkdir dataset\n",
        "!cd dataset/\n",
        "!mkdir dataset/usages\n",
        "!mkdir dataset/stations"
      ],
      "execution_count": 0,
      "outputs": []
    },
    {
      "cell_type": "code",
      "metadata": {
        "id": "csOz4j3ziLix",
        "colab_type": "code",
        "colab": {}
      },
      "source": [
        "#datos de páginas web para la descarga de los dataset\n",
        "pagina = \"https://opendata.emtmadrid.es\"\n",
        "url = requests.get(\"https://opendata.emtmadrid.es/Datos-estaticos/Datos-generales-(1)\")\n",
        "html_doc = url.text\n",
        "soup = BeautifulSoup(html_doc, 'html.parser')\n",
        "meses_l = [None, \"enero\",\"febrero\",\"marzo\",\"abril\",\"mayo\",\"junio\",\"julio\",\n",
        "           \"agosto\",\"septiembre\",\"octubre\",\"noviembre\",\"diciembre\"]"
      ],
      "execution_count": 0,
      "outputs": []
    },
    {
      "cell_type": "code",
      "metadata": {
        "id": "PDRJY_d_iv_S",
        "colab_type": "code",
        "colab": {}
      },
      "source": [
        "def descarga(mes,año):\n",
        "  for link in soup.find_all('a'):\n",
        "    l = link.get('title')\n",
        "    if isinstance(l,str):\n",
        "      if meses_l[mes] in l.lower() and str(año) in l:\n",
        "        if \"uso\" in l:\n",
        "          print(l)\n",
        "          enlace = link.get('href')\n",
        "          url = pagina+enlace\n",
        "          r = requests.get(url, allow_redirects=True)\n",
        "          open('temp.aspx', 'wb').write(r.content)\n",
        "          os.rename(\"temp.aspx\",\"temp.zip\")\n",
        "          try:\n",
        "            with zipfile.ZipFile(\"/content/temp.zip\", 'r') as zip_ref:\n",
        "              zip_ref.extractall(\"/content/dataset/usages\")\n",
        "            os.remove(\"/content/temp.zip\")\n",
        "          except:\n",
        "            os.rename(\"temp.zip\",\"temp.rar\")\n",
        "            patoolib.extract_archive(\"temp.rar\", outdir=\"/content/dataset/usages\")\n",
        "            os.remove(\"/content/temp.rar\")\n",
        "        elif \"estaciones\" in l:\n",
        "          print(l)\n",
        "          enlace = link.get('href')\n",
        "          url = pagina+enlace\n",
        "          r = requests.get(url, allow_redirects=True)\n",
        "          open('temp.aspx', 'wb').write(r.content)\n",
        "          os.rename(\"temp.aspx\",\"temp.zip\")\n",
        "          try:\n",
        "            with zipfile.ZipFile(\"/content/temp.zip\", 'r') as zip_ref:\n",
        "              zip_ref.extractall(\"/content/dataset/stations\")\n",
        "            os.remove(\"/content/temp.zip\")\n",
        "          except:\n",
        "            os.rename(\"temp.zip\",\"temp.rar\")\n",
        "            patoolib.extract_archive(\"temp.rar\", outdir=\"/content/dataset/stations\")\n",
        "            os.remove(\"/content/temp.rar\")"
      ],
      "execution_count": 0,
      "outputs": []
    },
    {
      "cell_type": "code",
      "metadata": {
        "id": "raadBW_0iygh",
        "colab_type": "code",
        "colab": {
          "base_uri": "https://localhost:8080/",
          "height": 561
        },
        "outputId": "daa82943-15ce-46fe-a70a-73e6656c7d04"
      },
      "source": [
        "for i in range(1,7):\n",
        "  descarga(i,2019)"
      ],
      "execution_count": 8,
      "outputs": [
        {
          "output_type": "stream",
          "text": [
            "Datos de uso de Enero de 2019. Nueva ventana\n",
            "Situación estaciones bicimad por día y hora de Enero de 2019. Nueva ventana\n",
            "Datos de uso de Febrero de 2019. Nueva ventana\n",
            "Situación estaciones bicimad por día y hora de Febrero de 2019. Nueva ventana\n",
            "patool: Extracting temp.rar ...\n",
            "patool: running /usr/bin/unrar x -- /content/temp.rar\n",
            "patool:     with cwd='/content/dataset/stations'\n",
            "patool: ... temp.rar extracted to `/content/dataset/stations'.\n",
            "Datos de uso de Marzo de 2019. Nueva ventana\n",
            "Situación estaciones bicimad por día y hora de Marzo de 2019. Nueva ventana\n",
            "patool: Extracting temp.rar ...\n",
            "patool: running /usr/bin/unrar x -- /content/temp.rar\n",
            "patool:     with cwd='/content/dataset/stations'\n",
            "patool: ... temp.rar extracted to `/content/dataset/stations'.\n",
            "Datos de uso de Abril de 2019. Nueva ventana\n",
            "Situación estaciones bicimad por día y hora de Abril de 2019. Nueva ventana\n",
            "patool: Extracting temp.rar ...\n",
            "patool: running /usr/bin/unrar x -- /content/temp.rar\n",
            "patool:     with cwd='/content/dataset/stations'\n",
            "patool: ... temp.rar extracted to `/content/dataset/stations'.\n",
            "Datos de uso de Mayo de 2019. Nueva ventana\n",
            "Situación estaciones bicimad por día y hora de Mayo de 2019. Nueva ventana\n",
            "patool: Extracting temp.rar ...\n",
            "patool: running /usr/bin/unrar x -- /content/temp.rar\n",
            "patool:     with cwd='/content/dataset/stations'\n",
            "patool: ... temp.rar extracted to `/content/dataset/stations'.\n",
            "Datos de uso de Junio de 2019. Nueva ventana\n",
            "Situación estaciones bicimad por día y hora de Junio de 2019. Nueva ventana\n",
            "patool: Extracting temp.rar ...\n",
            "patool: running /usr/bin/unrar x -- /content/temp.rar\n",
            "patool:     with cwd='/content/dataset/stations'\n",
            "patool: ... temp.rar extracted to `/content/dataset/stations'.\n"
          ],
          "name": "stdout"
        }
      ]
    },
    {
      "cell_type": "markdown",
      "metadata": {
        "id": "6l1JrKnQlPbm",
        "colab_type": "text"
      },
      "source": [
        "# **Creamos los RDD**\n",
        "Una vez tenemos las bases de datos descargadas vamos a codificarlas de forma cómoda."
      ]
    },
    {
      "cell_type": "markdown",
      "metadata": {
        "id": "s2_J09HfldNw",
        "colab_type": "text"
      },
      "source": [
        "Para tener los datos almacenados de una forma cómoda primero creamos un diccionario cuya clave va a ser un string con el mes y el año del dataset y como valor va a tener el rdd asociado al uso por usuario de ese mes.\n",
        "\n",
        "La funcion `mapper_usages` nos servirá para crear la rdd más legible. Nos quedaremos con los datos necesarios y cada linea la codificaremos como un diccionario."
      ]
    },
    {
      "cell_type": "code",
      "metadata": {
        "id": "qKXOxYtPlUPZ",
        "colab_type": "code",
        "colab": {}
      },
      "source": [
        "rdd_usages = {} "
      ],
      "execution_count": 0,
      "outputs": []
    },
    {
      "cell_type": "code",
      "metadata": {
        "id": "fQ1WZW9ylnFQ",
        "colab_type": "code",
        "colab": {}
      },
      "source": [
        "def mapper_usages(line):\n",
        "  data = json.loads(line)\n",
        "  user = data['user_type']\n",
        "  user_day = data['user_day_code']\n",
        "  start = data['idunplug_station']\n",
        "  end = data['idplug_station']\n",
        "  date = data['unplug_hourTime']['$date'][0:10]\n",
        "  hora = data['unplug_hourTime']['$date'][11:19]\n",
        "  time = data['travel_time']\n",
        "  age = data['ageRange']\n",
        "  try:\n",
        "    track = data['track']\n",
        "  except:\n",
        "    track = None\n",
        "  return {\"user_type\": user,\n",
        "          \"user_day_code\": user_day,\n",
        "          \"start\": start,\n",
        "          \"end\": end,\n",
        "          \"travel_time\": time,\n",
        "          \"date\": date,\n",
        "          \"hour\": hora,\n",
        "          \"age\": age,\n",
        "          \"track\": track}"
      ],
      "execution_count": 0,
      "outputs": []
    },
    {
      "cell_type": "code",
      "metadata": {
        "id": "d9pIrqUclrQl",
        "colab_type": "code",
        "colab": {
          "base_uri": "https://localhost:8080/",
          "height": 119
        },
        "outputId": "0f79dfbb-6039-4fa4-ee89-fda01e094881"
      },
      "source": [
        "directory = 'dataset/usages'\n",
        "rdd_usages['2019'] = sc.emptyRDD()\n",
        "for filename in os.listdir(directory):\n",
        "    if filename.endswith(\".json\"):\n",
        "      #Nos quedamos con la fecha del dataset en formato YYYYMM\n",
        "      name = filename.split(\"_\")[0]\n",
        "      rdd_usages[name] = sc.textFile(os.path.join(directory, filename)).map(mapper_usages)\n",
        "      rdd_usages['2019'] = rdd_usages['2019'].union(rdd_usages[name])\n",
        "      #DEBUG starts\n",
        "      print(name)\n",
        "      #DEBUG ends\n",
        "    else:\n",
        "        continue"
      ],
      "execution_count": 11,
      "outputs": [
        {
          "output_type": "stream",
          "text": [
            "201902\n",
            "201901\n",
            "201906\n",
            "201903\n",
            "201905\n",
            "201904\n"
          ],
          "name": "stdout"
        }
      ]
    },
    {
      "cell_type": "code",
      "metadata": {
        "id": "IHVwJiV1EtYD",
        "colab_type": "code",
        "colab": {
          "base_uri": "https://localhost:8080/",
          "height": 170
        },
        "outputId": "70307da9-d9bd-43b4-efc6-8da2552bd64b"
      },
      "source": [
        "rdd_usages['2019'].take(1)"
      ],
      "execution_count": 12,
      "outputs": [
        {
          "output_type": "execute_result",
          "data": {
            "text/plain": [
              "[{'age': 0,\n",
              "  'date': '2019-02-01',\n",
              "  'end': 128,\n",
              "  'hour': '00:00:00',\n",
              "  'start': 128,\n",
              "  'track': None,\n",
              "  'travel_time': 10,\n",
              "  'user_day_code': 'd8865be75a4696f3dec4a2e37039fa97582d1efb310c4324e9203d804f4914c0',\n",
              "  'user_type': 3}]"
            ]
          },
          "metadata": {
            "tags": []
          },
          "execution_count": 12
        }
      ]
    },
    {
      "cell_type": "markdown",
      "metadata": {
        "id": "muBX-1kTly_Y",
        "colab_type": "text"
      },
      "source": [
        "Por otro lado, un diccionario cuya clave va a ser tambien un string con el mes y el año del dataset y como valor va a tener el rdd asociado a la ocupación de las estaciones en ese mes.\n",
        "\n",
        "Aquí usaremos la funcion `mapper_stations` para acomodar los datos."
      ]
    },
    {
      "cell_type": "code",
      "metadata": {
        "id": "Do-vrp0Ul3uZ",
        "colab_type": "code",
        "colab": {}
      },
      "source": [
        "rdd_stations = {}"
      ],
      "execution_count": 0,
      "outputs": []
    },
    {
      "cell_type": "code",
      "metadata": {
        "id": "HhR9BSlSl5xZ",
        "colab_type": "code",
        "colab": {}
      },
      "source": [
        "def mapper_stations(line):\n",
        "  data = json.loads(line)\n",
        "  day = data['_id'][0:10]\n",
        "  hour = data['_id'][11:27]\n",
        "  station = data['stations']\n",
        "  return {\"day\": day, \"hour\": hour, \"station\": station}"
      ],
      "execution_count": 0,
      "outputs": []
    },
    {
      "cell_type": "code",
      "metadata": {
        "id": "pLEPxjcBl77p",
        "colab_type": "code",
        "colab": {
          "base_uri": "https://localhost:8080/",
          "height": 119
        },
        "outputId": "c51839fd-577c-4c44-9000-7af98341fcd4"
      },
      "source": [
        "directory = 'dataset/stations'\n",
        "rdd_stations['2019'] = sc.emptyRDD()\n",
        "for filename in os.listdir(directory):\n",
        "    if filename.endswith(\".json\"):\n",
        "      #Nos quedamos con la fecha del dataset en formato YYYYMM\n",
        "      name = filename.split(\"_\")[2].split(\".\")[0]\n",
        "      rdd_stations[name] = sc.textFile(os.path.join(directory, filename)).map(mapper_stations)\n",
        "      rdd_stations['2019'] = rdd_stations['2019'].union(rdd_stations[name])\n",
        "      #DEBUG starts\n",
        "      print(name)\n",
        "      #DEBUG ends\n",
        "    else:\n",
        "        continue"
      ],
      "execution_count": 15,
      "outputs": [
        {
          "output_type": "stream",
          "text": [
            "201904\n",
            "201902\n",
            "201903\n",
            "201905\n",
            "201906\n",
            "201901\n"
          ],
          "name": "stdout"
        }
      ]
    },
    {
      "cell_type": "markdown",
      "metadata": {
        "id": "-C02tMVwlhC8",
        "colab_type": "text"
      },
      "source": [
        "# **Análisis de los meses disponibles de 2019**\n",
        "En esta primera parte tratamos los 6 primeros meses de 2019, para tener un abanico de datos más amplio del uso de BiciMad."
      ]
    },
    {
      "cell_type": "markdown",
      "metadata": {
        "id": "KosiIgA650BR",
        "colab_type": "text"
      },
      "source": [
        "### **Analisis y comparativas entre datos nocturnos y diurnos.**\n",
        "De una forma breve, vemos la diferencia entre los datos nocturnos y diurnos, simplemente teniendo en cuenta el número de usuarios."
      ]
    },
    {
      "cell_type": "markdown",
      "metadata": {
        "id": "onqKZU_0lqvV",
        "colab_type": "text"
      },
      "source": [
        "Lo primero que haremos será ver el número de usuarios diferenciados por tipos según sean horas diurnas o nocturnas."
      ]
    },
    {
      "cell_type": "markdown",
      "metadata": {
        "id": "nhnFA97lmF-J",
        "colab_type": "text"
      },
      "source": [
        "Tomaremos como 'horas nocturnas' las horas comprendidas entre las 00:00 y las 05:59. Ahora, como en los archivos de bicimad solo se distinguen las horas exactas, nuestras referencias nocturnas serán las 00:00, 01:00, 02:00, 03:00, 04:00 y 05:00."
      ]
    },
    {
      "cell_type": "code",
      "metadata": {
        "id": "rq8O6lpjmNht",
        "colab_type": "code",
        "outputId": "6d06d57e-9236-4a26-9f68-eb9df8f3341e",
        "colab": {
          "base_uri": "https://localhost:8080/",
          "height": 55
        }
      },
      "source": [
        "\"\"\"\n",
        "Con esta funcón, lo que hacemos es quedarnos solo con los datos del rdd, que sean nocturnos.\n",
        "\n",
        "def horasNocturnas(data):\n",
        "  #data = json.loads(line)\n",
        "  #hora_minima = 3600 #Esto seria pasar las 01:00:00 horas a segundos‬\n",
        "  hora_minima = 0 #Lo pongo en 0 ya que si no estamos perdiendo algun dato relevante para el ultimo problema\n",
        "  hora_maxima = 18000 #Esto seria pasar las 05:00:00 horas a segundos‬\n",
        "  hora = data['hour']\n",
        "  hora_actual = int(hora[0:2]) * 3600 + int(hora[3:5]) * 60 + int(hora[6:8])\n",
        "  #En teoria con multipicar solo las horas ya valdria porque no hay ni minutos ni segundos\n",
        "  return hora_actual <= hora_maxima\n",
        "\"\"\""
      ],
      "execution_count": 0,
      "outputs": [
        {
          "output_type": "execute_result",
          "data": {
            "text/plain": [
              "\"\\nCon esta funcón, lo que hacemos es quedarnos solo con los datos del rdd, que sean nocturnos.\\n\\ndef horasNocturnas(data):\\n  #data = json.loads(line)\\n  #hora_minima = 3600 #Esto seria pasar las 01:00:00 horas a segundos\\u202c\\n  hora_minima = 0 #Lo pongo en 0 ya que si no estamos perdiendo algun dato relevante para el ultimo problema\\n  hora_maxima = 18000 #Esto seria pasar las 05:00:00 horas a segundos\\u202c\\n  hora = data['hour']\\n  hora_actual = int(hora[0:2]) * 3600 + int(hora[3:5]) * 60 + int(hora[6:8])\\n  #En teoria con multipicar solo las horas ya valdria porque no hay ni minutos ni segundos\\n  return hora_actual <= hora_maxima\\n\""
            ]
          },
          "metadata": {
            "tags": []
          },
          "execution_count": 16
        }
      ]
    },
    {
      "cell_type": "code",
      "metadata": {
        "id": "R2NgdfiiouH5",
        "colab_type": "code",
        "colab": {}
      },
      "source": [
        "#Con esta función nos quedamos solo con los datos del rdd que sean nocturnos.\n",
        "def horasNocturnas(data):\n",
        "  hora_minima = 0\n",
        "  hora_maxima = 6\n",
        "  hora_actual = int(data['hour'][:2])\n",
        "  if hora_minima < hora_maxima:\n",
        "    return hora_minima <= hora_actual and hora_actual < hora_maxima\n",
        "  elif hora_minima > hora_maxima:\n",
        "    return hora_minima <= hora_actual or hora_actual < hora_maxima"
      ],
      "execution_count": 0,
      "outputs": []
    },
    {
      "cell_type": "code",
      "metadata": {
        "id": "tf2dLvsamsx9",
        "colab_type": "code",
        "colab": {}
      },
      "source": [
        "\"\"\"\n",
        "Ahora tomamos el rdd que contiene los meses de enero de 2019 a julio de 2019.\n",
        "\"\"\"\n",
        "rddNocturna = rdd_usages['2019'].filter(lambda x: horasNocturnas(x))"
      ],
      "execution_count": 0,
      "outputs": []
    },
    {
      "cell_type": "code",
      "metadata": {
        "id": "hsZPcvOumRhZ",
        "colab_type": "code",
        "outputId": "2a70e78e-de58-4223-dc74-a8b3f280a186",
        "colab": {
          "base_uri": "https://localhost:8080/",
          "height": 35
        }
      },
      "source": [
        "\"\"\"\n",
        "rddNocturna.take(1)\n",
        "\"\"\""
      ],
      "execution_count": 0,
      "outputs": [
        {
          "output_type": "execute_result",
          "data": {
            "text/plain": [
              "'\\nrddNocturna.take(1)\\n'"
            ]
          },
          "metadata": {
            "tags": []
          },
          "execution_count": 19
        }
      ]
    },
    {
      "cell_type": "code",
      "metadata": {
        "id": "LUr-oo96mVlY",
        "colab_type": "code",
        "outputId": "70c64615-354d-4d8a-ecbe-c2661cd8f087",
        "colab": {
          "base_uri": "https://localhost:8080/",
          "height": 35
        }
      },
      "source": [
        "#Separamos ahora por tipo de usuario y vemos cuantos hay de cada tipo en total (para caso nocturno).\n",
        "night_data = rddNocturna.map(lambda x: x['user_type']).countByValue()\n",
        "night_data"
      ],
      "execution_count": 0,
      "outputs": [
        {
          "output_type": "execute_result",
          "data": {
            "text/plain": [
              "defaultdict(int, {0: 203, 1: 154927, 2: 1381, 3: 23428})"
            ]
          },
          "metadata": {
            "tags": []
          },
          "execution_count": 20
        }
      ]
    },
    {
      "cell_type": "markdown",
      "metadata": {
        "id": "B0rPKDGZnoNs",
        "colab_type": "text"
      },
      "source": [
        "Creamos una gráfica para ver mejor los datos."
      ]
    },
    {
      "cell_type": "code",
      "metadata": {
        "id": "elTfuGWJpLA2",
        "colab_type": "code",
        "outputId": "18ba4dfe-0e70-4183-e4b9-6f3cabed681d",
        "colab": {
          "base_uri": "https://localhost:8080/",
          "height": 303
        }
      },
      "source": [
        "plt.title('Datos por tipo de usuario nocturnos en 6 meses')\n",
        "names = list(night_data.keys()) \n",
        "values = list(night_data.values())\n",
        "plt.bar(names, values, 1)\n",
        "plt.xlabel('Tipo de usuarios', fontsize=18)\n",
        "plt.ylabel('Cantidad de usuarios', fontsize=16)\n",
        "names.sort()\n",
        "plt.xticks(names, [\"0\",\"1\",\"2\",\"3\"])\n",
        "plt.show()"
      ],
      "execution_count": 0,
      "outputs": [
        {
          "output_type": "display_data",
          "data": {
            "image/png": "[encoded data removed]",
            "text/plain": [
              "<Figure size 432x288 with 1 Axes>"
            ]
          },
          "metadata": {
            "tags": [],
            "needs_background": "light"
          }
        }
      ]
    },
    {
      "cell_type": "markdown",
      "metadata": {
        "id": "ifDFmsLAoQ-m",
        "colab_type": "text"
      },
      "source": [
        "Podemos observar como la mayoría de usuarios que han usado bicimad por la noche son usuarios del tipo 1, que son los usuarios anuales mientras que hay muy pocos usuarios ocasionales. "
      ]
    },
    {
      "cell_type": "code",
      "metadata": {
        "id": "dzQs5KiHpi9C",
        "colab_type": "code",
        "colab": {}
      },
      "source": [
        "rddDiurna =  rdd_usages['2019'].filter(lambda x: not(horasNocturnas(x)))"
      ],
      "execution_count": 0,
      "outputs": []
    },
    {
      "cell_type": "code",
      "metadata": {
        "id": "SZPKRLMbpf3X",
        "colab_type": "code",
        "outputId": "753ba6d2-dc1c-46f6-96c0-7ced56c2331c",
        "colab": {
          "base_uri": "https://localhost:8080/",
          "height": 35
        }
      },
      "source": [
        "\"\"\"\n",
        "rddDiurna.take(1)\n",
        "\"\"\""
      ],
      "execution_count": 0,
      "outputs": [
        {
          "output_type": "execute_result",
          "data": {
            "text/plain": [
              "'\\nrddDiurna.take(1)\\n'"
            ]
          },
          "metadata": {
            "tags": []
          },
          "execution_count": 23
        }
      ]
    },
    {
      "cell_type": "code",
      "metadata": {
        "id": "lsgyxLYbpCJx",
        "colab_type": "code",
        "outputId": "e35a56a9-d333-4a78-846e-71954e5ed620",
        "colab": {
          "base_uri": "https://localhost:8080/",
          "height": 35
        }
      },
      "source": [
        "#Separamos ahora por tipo de usuario y vemos cuantos hay de cada tipo en total (para el caso diurno)\n",
        "day_data = rddDiurna.map(lambda x: x['user_type']).countByValue()\n",
        "day_data"
      ],
      "execution_count": 0,
      "outputs": [
        {
          "output_type": "execute_result",
          "data": {
            "text/plain": [
              "defaultdict(int, {0: 1646, 1: 1767639, 2: 25599, 3: 118387})"
            ]
          },
          "metadata": {
            "tags": []
          },
          "execution_count": 24
        }
      ]
    },
    {
      "cell_type": "code",
      "metadata": {
        "id": "R3-qnozJ7I6f",
        "colab_type": "code",
        "outputId": "db03328a-932f-4d3c-a7e0-f3a6581df4a7",
        "colab": {
          "base_uri": "https://localhost:8080/",
          "height": 303
        }
      },
      "source": [
        "plt.title('Datos por tipo de usuario diurnos en 6 meses')\n",
        "names = list(day_data.keys()) \n",
        "values = list(day_data.values())\n",
        "plt.bar(names, values, 1)\n",
        "plt.xlabel('Tipo de usuarios', fontsize=18)\n",
        "plt.ylabel('Cantidad de usuarios', fontsize=16)\n",
        "names.sort()\n",
        "plt.xticks(names, [\"0\",\"1\",\"2\",\"3\"])\n",
        "plt.show()"
      ],
      "execution_count": 0,
      "outputs": [
        {
          "output_type": "display_data",
          "data": {
            "image/png": "[encoded data removed]",
            "text/plain": [
              "<Figure size 432x288 with 1 Axes>"
            ]
          },
          "metadata": {
            "tags": [],
            "needs_background": "light"
          }
        }
      ]
    },
    {
      "cell_type": "markdown",
      "metadata": {
        "id": "IJb9B0UlqVoB",
        "colab_type": "text"
      },
      "source": [
        "Los datos de los histogramas son muy parecidos por lo que para ver la diferencia entre los datos nocturnos y los diurnos, es necesario hacer una proporcion para ver como son estos datos."
      ]
    },
    {
      "cell_type": "code",
      "metadata": {
        "id": "HN6Jm3fiqrlO",
        "colab_type": "code",
        "outputId": "af18a297-2dd6-4d44-f67b-73a24b6ef86c",
        "colab": {
          "base_uri": "https://localhost:8080/",
          "height": 35
        }
      },
      "source": [
        "#Proporcion datos nocturnos\n",
        "print(\"Proporción 'nocturna' entre tipo 2 sobre tipo 1: \", night_data[2]/night_data[1])"
      ],
      "execution_count": 0,
      "outputs": [
        {
          "output_type": "stream",
          "text": [
            "Proporción 'nocturna' entre tipo 2 sobre tipo 1:  0.008913875567202618\n"
          ],
          "name": "stdout"
        }
      ]
    },
    {
      "cell_type": "code",
      "metadata": {
        "id": "aQ6gNFlNqfOJ",
        "colab_type": "code",
        "outputId": "274e7404-5adb-4c2a-d6f2-42a5e8a3d710",
        "colab": {
          "base_uri": "https://localhost:8080/",
          "height": 35
        }
      },
      "source": [
        "#Proporcion datos diurnos\n",
        "print(\"Proporción 'diurna' entre tipo 2 sobre tipo 1: \", day_data[2]/day_data[1])"
      ],
      "execution_count": 0,
      "outputs": [
        {
          "output_type": "stream",
          "text": [
            "Proporción 'diurna' entre tipo 2 sobre tipo 1:  0.014482029418902842\n"
          ],
          "name": "stdout"
        }
      ]
    },
    {
      "cell_type": "markdown",
      "metadata": {
        "id": "ZwyAWmia6ZcD",
        "colab_type": "text"
      },
      "source": [
        "Ambas proporciones son muy parecidas y bastante bajas por lo que los usuarios ocasionales no repercuten en gran medida en los datos ya que principalmente los usuarios son de tipo anual. Así, aunque en las horas nocturnas podría haber una proporcion mayor de usuarios de tipo 2, no se puede concluir con estos datos"
      ]
    },
    {
      "cell_type": "markdown",
      "metadata": {
        "id": "iy479xLdqyf4",
        "colab_type": "text"
      },
      "source": [
        "Las proporcion diurna, es un poquito más grande, luego, podemos decir que durante el día hay más usuarios de tipo 2 que durante la noche."
      ]
    },
    {
      "cell_type": "markdown",
      "metadata": {
        "id": "5HHl--Qv6IJR",
        "colab_type": "text"
      },
      "source": [
        "### **Análisis de días laborables y fines de semana**\n",
        "Cabe pensar que el uso de BiciMad por la noche se acentúa durante los fines de semana, de ahí este apartado."
      ]
    },
    {
      "cell_type": "markdown",
      "metadata": {
        "id": "lkdxOGgnhFxw",
        "colab_type": "text"
      },
      "source": [
        "Creemos que analizar los datos de los fines de semana puede darnos cierta información, dado que a priori, podemos suponer que habrá más movimientos, porque la gente puede estar fuera de casa hasta más tarde."
      ]
    },
    {
      "cell_type": "markdown",
      "metadata": {
        "id": "9zwZE54SsCua",
        "colab_type": "text"
      },
      "source": [
        "Lo primero que necesitamos es una función que nos diferencia entre días laborables y fines de semana. Tomaremos como fin de semana viernes, sábado y domingo."
      ]
    },
    {
      "cell_type": "code",
      "metadata": {
        "id": "iIGfp7HVsPSj",
        "colab_type": "code",
        "colab": {}
      },
      "source": [
        "\"\"\"\n",
        "Utilizaremos la librería 'datatime', para obtener de forma sencilla el día de la semana qu es una fecha dada.\n",
        "\"\"\"\n",
        "from datetime import datetime, date, time, timedelta\n",
        "import calendar\n",
        "def cambioFormato(fecha):\n",
        "  formato1 = \"%A\" #formatos: https://python-para-impacientes.blogspot.com/2014/02/operaciones-con-fechas-y-horas.html \n",
        "                            #https://blog.ipswitch.com/es/formato-de-fecha-en-python \n",
        "  dia=datetime.strptime(fecha, '%Y-%m-%d') #El segundo dato es el formato que tiene la fecha que le estoy dando\n",
        "  dia_1=dia.strftime(formato1)\n",
        "  return dia_1"
      ],
      "execution_count": 0,
      "outputs": []
    },
    {
      "cell_type": "code",
      "metadata": {
        "id": "e5mJjllOsTFp",
        "colab_type": "code",
        "colab": {}
      },
      "source": [
        "def weekend(line, madrugada):\n",
        "  \"\"\"\n",
        "  madrugada es un booleano para decirle si queremos que nos coja los días pero por la noche,\n",
        "  en plan, en las horas nocturnas, pues queremos que nos coja, los sabados, los domingos y los lunes.\n",
        "  \"\"\"\n",
        "  if madrugada:\n",
        "    days=['Saturday', 'Sunday', 'Monday']\n",
        "  else:\n",
        "    days=['Friday', 'Saturday', 'Sunday'] \n",
        "  #por ejemplo si queremos los datos diurnos, pues lo pondríamos a 'not weekend(fecha, FALSE)', para que cogiese estos días\n",
        "  dia=cambioFormato(line['date'])\n",
        "  return dia in days"
      ],
      "execution_count": 0,
      "outputs": []
    },
    {
      "cell_type": "code",
      "metadata": {
        "id": "VoS5uMvzwk1-",
        "colab_type": "code",
        "outputId": "a1a382da-620d-41ea-8c22-aee52fb8825a",
        "colab": {
          "base_uri": "https://localhost:8080/",
          "height": 55
        }
      },
      "source": [
        "\"\"\"\n",
        "#Esta funcion, dado cualquier dia, te dice si fue fin de semana o no en el año 2019. Tendiendo en cuenta\n",
        "#que la 'noche' del viernes es sabado ya, por lo que queremos los dias sabado, domingo y lunes.\n",
        "def is_weekend(data):\n",
        "  months = [31, 28, 31, 30, 31, 30]#Los dias que tiene cada mes desde enero a junio\n",
        "  #El 1 de enero de 2019 cayo en Martes\n",
        "  fin_semana = [4,5,6] #Corrspondiente a los fines de semana.\n",
        "  fecha_actual = data['date']\n",
        "  mes_actual = int(fecha_actual[5:7])\n",
        "  dia_actual = int(fecha_actual[8:10])\n",
        "  dias_transcurridos = months[mes_actual-1]*(mes_actual-1) + dia_actual\n",
        "  return dias_transcurridos % 7 in fin_semana\n",
        "\"\"\""
      ],
      "execution_count": 0,
      "outputs": [
        {
          "output_type": "execute_result",
          "data": {
            "text/plain": [
              "\"\\n#Esta funcion, dado cualquier dia, te dice si fue fin de semana o no en el año 2019. Tendiendo en cuenta\\n#que la 'noche' del viernes es sabado ya, por lo que queremos los dias sabado, domingo y lunes.\\ndef is_weekend(data):\\n  months = [31, 28, 31, 30, 31, 30]#Los dias que tiene cada mes desde enero a junio\\n  #El 1 de enero de 2019 cayo en Martes\\n  fin_semana = [4,5,6] #Corrspondiente a los fines de semana.\\n  fecha_actual = data['date']\\n  mes_actual = int(fecha_actual[5:7])\\n  dia_actual = int(fecha_actual[8:10])\\n  dias_transcurridos = months[mes_actual-1]*(mes_actual-1) + dia_actual\\n  return dias_transcurridos % 7 in fin_semana\\n\""
            ]
          },
          "metadata": {
            "tags": []
          },
          "execution_count": 30
        }
      ]
    },
    {
      "cell_type": "code",
      "metadata": {
        "id": "mhw8JA0wki-7",
        "colab_type": "code",
        "outputId": "eeb51197-670c-4d25-8647-3ec7265a24e7",
        "colab": {
          "base_uri": "https://localhost:8080/",
          "height": 35
        }
      },
      "source": [
        "rddWeekend=rddNocturna.filter(lambda x: weekend(x, True)) #madrugada a True porque estamos usando datos nocturnos.\n",
        "weekend_data=rddWeekend.map(lambda x: x['user_type']).countByValue()\n",
        "weekend_data"
      ],
      "execution_count": 0,
      "outputs": [
        {
          "output_type": "execute_result",
          "data": {
            "text/plain": [
              "defaultdict(int, {0: 162, 1: 88006, 2: 954, 3: 8922})"
            ]
          },
          "metadata": {
            "tags": []
          },
          "execution_count": 31
        }
      ]
    },
    {
      "cell_type": "code",
      "metadata": {
        "id": "MEFxYX_d3_SS",
        "colab_type": "code",
        "outputId": "7696bea6-8597-4b72-d657-f0328f80efc3",
        "colab": {
          "base_uri": "https://localhost:8080/",
          "height": 134
        }
      },
      "source": [
        "fig=plt.figure()\n",
        "fig.subplots_adjust(bottom=0.025, left=0.05, top = 0.975, right=0.975)\n",
        "fig.add_subplot(1,4,1)\n",
        "plt.pie([night_data[0]-weekend_data[0], weekend_data[0]], labels=['L-J', 'V-D'],\n",
        "        autopct='%1.1f%%', shadow=True, startangle=90)\n",
        "plt.title('Indefinido')\n",
        "fig.add_subplot(1,4,2)\n",
        "plt.pie([night_data[1]-weekend_data[1], weekend_data[1]], labels=['L-J', 'V-D'],\n",
        "        autopct='%1.1f%%', shadow=True, startangle=90)\n",
        "plt.title('Anuales')\n",
        "fig.add_subplot(1,4,3)\n",
        "plt.pie([night_data[2]-weekend_data[2], weekend_data[2]], labels=['L-J', 'V-D'],\n",
        "        autopct='%1.1f%%', shadow=True, startangle=90)\n",
        "plt.title('Ocasionales')\n",
        "fig.add_subplot(1,4,4)\n",
        "plt.pie([night_data[3]-weekend_data[3], weekend_data[3]], labels=['L-J', 'V-D'],\n",
        "        autopct='%1.1f%%', shadow=True, startangle=90)\n",
        "plt.title('Trabajadores')\n",
        "#plt.legend(['entre semana', 'fin de semana'], loc=4)\n",
        "plt.show()"
      ],
      "execution_count": 0,
      "outputs": [
        {
          "output_type": "display_data",
          "data": {
            "image/png": "[encoded data removed]",
            "text/plain": [
              "<Figure size 432x288 with 4 Axes>"
            ]
          },
          "metadata": {
            "tags": []
          }
        }
      ]
    },
    {
      "cell_type": "markdown",
      "metadata": {
        "id": "ADqigq0d1LwJ",
        "colab_type": "text"
      },
      "source": [
        "Como vemos, más de la mitad de viajeros que tienen pase anual, utilizan BiciMad en el fin de semana. Podemos ver que incluso casi el 70% de los viajes ocasionales se producen durante el fin de semana. Sin embargo, de los trabajadores de la empresa, solo el 38% lo hace en fin de semana.\n"
      ]
    },
    {
      "cell_type": "code",
      "metadata": {
        "id": "qDldRN4hTcHP",
        "colab_type": "code",
        "outputId": "5ac5d31d-07eb-49cf-867f-27d897658481",
        "colab": {
          "base_uri": "https://localhost:8080/",
          "height": 55
        }
      },
      "source": [
        "\"\"\"\n",
        "Esto de aqui abajo es nuevo, al hacerlo me ha parecido interesante y lo he añadido\n",
        "En verdad yo lo borraria y hablaria de ello en el apartado de las edades que es cuando es\n",
        "interesante y enlazarlo con esto.\n",
        "\"\"\""
      ],
      "execution_count": 0,
      "outputs": [
        {
          "output_type": "execute_result",
          "data": {
            "text/plain": [
              "'\\nEsto de aqui abajo es nuevo, al hacerlo me ha parecido interesante y lo he añadido\\nEn verdad yo lo borraria y hablaria de ello en el apartado de las edades que es cuando es\\ninteresante y enlazarlo con esto.\\n'"
            ]
          },
          "metadata": {
            "tags": []
          },
          "execution_count": 33
        }
      ]
    },
    {
      "cell_type": "markdown",
      "metadata": {
        "id": "PFh2xpeGEwMy",
        "colab_type": "text"
      },
      "source": [
        "El porcentaje de los usuarios ocasionales es interesante compararlo con el estudio que habíamos realizado antes. En ese caso no se observaba una diferencia notable de este tipo de usuarios entre las horas nocturnas y las diurnas, pero sin embargo, ahora si que hay una clara diferencia teniendo en cuenta tan solo los días en horas nocturnas. Esto se puede deber a que, como sale más gente joven, hagan uso de bicimad para desplazarse. Veamos si es cierto."
      ]
    },
    {
      "cell_type": "code",
      "metadata": {
        "id": "pZPCg-qKQbVs",
        "colab_type": "code",
        "outputId": "5a3e7bca-45b1-4f9d-ff66-eddd4dc991df",
        "colab": {
          "base_uri": "https://localhost:8080/",
          "height": 52
        }
      },
      "source": [
        "nightAges_tipe2 = rddNocturna.filter(lambda x: x['user_type'] == 2).map(lambda x: x['age']).countByValue()\n",
        "weekendAges_tipe2 = rddWeekend.filter(lambda x: x['user_type'] == 2).map(lambda x: x['age']).countByValue()\n",
        "print(nightAges_tipe2)\n",
        "print(weekendAges_tipe2)"
      ],
      "execution_count": 0,
      "outputs": [
        {
          "output_type": "stream",
          "text": [
            "defaultdict(<class 'int'>, {0: 1334, 3: 16, 4: 23, 5: 8})\n",
            "defaultdict(<class 'int'>, {0: 924, 3: 9, 4: 14, 5: 7})\n"
          ],
          "name": "stdout"
        }
      ]
    },
    {
      "cell_type": "markdown",
      "metadata": {
        "id": "DMaxG26mYsx1",
        "colab_type": "text"
      },
      "source": [
        "La mayoría de las edades son del tipo 0, que son aquellas que no están identificadas por lo que con estos datos no podemos extraer ninguna información sobre los usuarios de tipo ocasional."
      ]
    },
    {
      "cell_type": "markdown",
      "metadata": {
        "id": "FKK2lUlid6EW",
        "colab_type": "text"
      },
      "source": [
        "Veamos ahora, los movimientos por horas.\n"
      ]
    },
    {
      "cell_type": "code",
      "metadata": {
        "id": "H5mxPxhseSov",
        "colab_type": "code",
        "colab": {}
      },
      "source": [
        "def movimientosPorHoras(data):\n",
        "  hora= data['hour']\n",
        "  user=data['user_type']\n",
        "  age=data['age']\n",
        "  return hora, (user, age)"
      ],
      "execution_count": 0,
      "outputs": []
    },
    {
      "cell_type": "markdown",
      "metadata": {
        "id": "zbZb6x4nvsqx",
        "colab_type": "text"
      },
      "source": [
        "Tomamos los movimientos por horas nocturnos:"
      ]
    },
    {
      "cell_type": "code",
      "metadata": {
        "id": "uAXoFAalvqpF",
        "colab_type": "code",
        "outputId": "59bcb321-a241-46ab-f36a-f61c5210ad02",
        "colab": {
          "base_uri": "https://localhost:8080/",
          "height": 139
        }
      },
      "source": [
        "#rddHoras=rddNocturna.map(movimientosPorHoras)\n",
        "time_data=rddNocturna.map(movimientosPorHoras).countByKey()\n",
        "time_data"
      ],
      "execution_count": 0,
      "outputs": [
        {
          "output_type": "execute_result",
          "data": {
            "text/plain": [
              "defaultdict(int,\n",
              "            {'00:00:00': 59407,\n",
              "             '01:00:00': 43304,\n",
              "             '02:00:00': 31143,\n",
              "             '03:00:00': 19471,\n",
              "             '04:00:00': 14793,\n",
              "             '05:00:00': 11821})"
            ]
          },
          "metadata": {
            "tags": []
          },
          "execution_count": 36
        }
      ]
    },
    {
      "cell_type": "markdown",
      "metadata": {
        "id": "_1_nUtjovc6l",
        "colab_type": "text"
      },
      "source": [
        "Tomamos los movimientos por horas en fin de semana:"
      ]
    },
    {
      "cell_type": "code",
      "metadata": {
        "id": "jvF6nnsHBuhi",
        "colab_type": "code",
        "outputId": "2d41f4a1-9da6-464a-9078-9f955086633d",
        "colab": {
          "base_uri": "https://localhost:8080/",
          "height": 139
        }
      },
      "source": [
        "#rddHorasWeekend=rddWeekend.map(movimientosPorHoras)\n",
        "weekend_time_data = rddWeekend.map(movimientosPorHoras).countByKey()\n",
        "weekend_time_data"
      ],
      "execution_count": 0,
      "outputs": [
        {
          "output_type": "execute_result",
          "data": {
            "text/plain": [
              "defaultdict(int,\n",
              "            {'00:00:00': 26845,\n",
              "             '01:00:00': 23227,\n",
              "             '02:00:00': 18568,\n",
              "             '03:00:00': 13009,\n",
              "             '04:00:00': 9402,\n",
              "             '05:00:00': 6993})"
            ]
          },
          "metadata": {
            "tags": []
          },
          "execution_count": 37
        }
      ]
    },
    {
      "cell_type": "markdown",
      "metadata": {
        "id": "RibzKx4FwXpi",
        "colab_type": "text"
      },
      "source": [
        "Creamos dos gráficos, uno con los días laborables y otro con los fines de semana."
      ]
    },
    {
      "cell_type": "code",
      "metadata": {
        "id": "WTFI7kqnxO43",
        "colab_type": "code",
        "outputId": "d9030676-f28e-490f-a99c-d1553e935db6",
        "colab": {
          "base_uri": "https://localhost:8080/",
          "height": 121
        }
      },
      "source": [
        "\"\"\"\n",
        "Para obtener los días laborables, tenemos que 'restar' los datos de los fines de semana a los totales.\n",
        "\"\"\"\n",
        "laborable_time_data={}\n",
        "for i in range(0,6):\n",
        "  laborable_time_data['0'+str(i)+':00:00']=time_data['0'+str(i)+':00:00'] - weekend_time_data['0'+str(i)+':00:00']\n",
        "laborable_time_data"
      ],
      "execution_count": 0,
      "outputs": [
        {
          "output_type": "execute_result",
          "data": {
            "text/plain": [
              "{'00:00:00': 32562,\n",
              " '01:00:00': 20077,\n",
              " '02:00:00': 12575,\n",
              " '03:00:00': 6462,\n",
              " '04:00:00': 5391,\n",
              " '05:00:00': 4828}"
            ]
          },
          "metadata": {
            "tags": []
          },
          "execution_count": 38
        }
      ]
    },
    {
      "cell_type": "code",
      "metadata": {
        "id": "sz70AxnqAEkI",
        "colab_type": "code",
        "outputId": "87a52968-0dab-4e10-e018-c8f520065374",
        "colab": {
          "base_uri": "https://localhost:8080/",
          "height": 244
        }
      },
      "source": [
        "fig=plt.figure()\n",
        "fig.subplots_adjust(bottom=0.025, left=0.05, top = 0.975, right=0.975)\n",
        "fig.add_subplot(1,2,1)\n",
        "plt.pie(list(laborable_time_data.values()), labels=list(laborable_time_data.keys()),\n",
        "        autopct='%1.1f%%', shadow=True, startangle=90)\n",
        "plt.title('Viajes nocturnos\\n por horas L-J')\n",
        "fig.add_subplot(1,2,2)\n",
        "plt.pie(list(weekend_time_data.values()), labels=list(weekend_time_data.keys()),\n",
        "        autopct='%1.1f%%', shadow=True, startangle=90)\n",
        "plt.title('Viajes nocturnos\\n por horas V-D')\n",
        "plt.show()"
      ],
      "execution_count": 0,
      "outputs": [
        {
          "output_type": "display_data",
          "data": {
            "image/png": "[encoded data removed]",
            "text/plain": [
              "<Figure size 432x288 with 2 Axes>"
            ]
          },
          "metadata": {
            "tags": []
          }
        }
      ]
    },
    {
      "cell_type": "markdown",
      "metadata": {
        "id": "gFViHoToCZyZ",
        "colab_type": "text"
      },
      "source": [
        "Como vemos, los días laborables, casi el 65% de los viajes, se realizan antes de las 2 de la madrugada y sin embargo, este porcentaje se reduce al 51% cuando hablamos de los fines de semana, donde incrementa el número de viajes a partir de las 2 de la madrugada."
      ]
    },
    {
      "cell_type": "markdown",
      "metadata": {
        "id": "BZFdCqgXGv5H",
        "colab_type": "text"
      },
      "source": [
        "Para entenderlo mejor, veamos también distinciones por horas y usuarios."
      ]
    },
    {
      "cell_type": "code",
      "metadata": {
        "id": "xg87ylMrh79t",
        "colab_type": "code",
        "outputId": "c0446117-0921-478e-ed42-cb48314f2204",
        "colab": {
          "base_uri": "https://localhost:8080/",
          "height": 1000
        }
      },
      "source": [
        "horas = ['00:00:00','01:00:00', '02:00:00', '03:00:00', '04:00:00', '05:00:00']\n",
        "#fig=plt.figure()\n",
        "#fig.subplots_adjust(bottom=0.025, left=0.05, top = 0.975, right=0.975) \n",
        "#fig.add_subplot(3,5,1)\n",
        "def grafica(dic, value, modo):\n",
        "  fig=plt.figure()\n",
        "  fig.subplots_adjust(bottom=0.025, left=0.05, top = 0.975, right=0.975) \n",
        "  #linea = value/2 +1\n",
        "  #pos = (value % 2) + 1\n",
        "  #fig.add_subplot(linea,5,pos)\n",
        "  plt.pie(list(dic.values()), labels=list(dic.keys()),\n",
        "        autopct='%1.1f%%', shadow=True, startangle=90)\n",
        "  plt.title('Viajes segun '+modo+' a las '+horas[value]+' horas')\n",
        "  plt.show()\n",
        "\n",
        "rddHoras=rddNocturna.map(movimientosPorHoras)\n",
        "for i in range(len(horas)):\n",
        "  #grafica(rddHoras.filter(lambda x: x[0] == horas[i]).map(lambda x: (x[1][0], 1)).countByKey(), i)\n",
        "  grafica(rddHoras.filter(lambda x: x[0] == horas[i]).map(lambda x: (x[1][0], 1)).countByKey(), i, 'tipos')\n",
        "#Tarda un rato y he intentado ponerlo como lo ponia elisa pero quedaba muy pequeño y no se absolutamente nada. Asi se ve mas pero a lo mejor\n",
        "#ocupa demasiado."
      ],
      "execution_count": 0,
      "outputs": [
        {
          "output_type": "display_data",
          "data": {
            "image/png": "[encoded data removed]",
            "text/plain": [
              "<Figure size 432x288 with 1 Axes>"
            ]
          },
          "metadata": {
            "tags": []
          }
        },
        {
          "output_type": "display_data",
          "data": {
            "image/png": "[encoded data removed]",
            "text/plain": [
              "<Figure size 432x288 with 1 Axes>"
            ]
          },
          "metadata": {
            "tags": []
          }
        },
        {
          "output_type": "display_data",
          "data": {
            "image/png": "[encoded data removed]",
            "text/plain": [
              "<Figure size 432x288 with 1 Axes>"
            ]
          },
          "metadata": {
            "tags": []
          }
        },
        {
          "output_type": "display_data",
          "data": {
            "image/png": "[encoded data removed]",
            "text/plain": [
              "<Figure size 432x288 with 1 Axes>"
            ]
          },
          "metadata": {
            "tags": []
          }
        },
        {
          "output_type": "display_data",
          "data": {
            "image/png": "[encoded data removed]",
            "text/plain": [
              "<Figure size 432x288 with 1 Axes>"
            ]
          },
          "metadata": {
            "tags": []
          }
        },
        {
          "output_type": "display_data",
          "data": {
            "image/png": "[encoded data removed]",
            "text/plain": [
              "<Figure size 432x288 with 1 Axes>"
            ]
          },
          "metadata": {
            "tags": []
          }
        }
      ]
    },
    {
      "cell_type": "markdown",
      "metadata": {
        "id": "UovvYw8m20tD",
        "colab_type": "text"
      },
      "source": [
        "Como ya habíamos visto, la mayoría de los trayectos que se realizan son por los usuarios de tipo 1, los anuales, pero también hay que tener en cuenta que entre las 1 horas y las 2 horas, hay más de un 15% de los viajes que son realizados por los trabajadores de la empresa. Mientras que a las 12 y a las 3 de la madrugada, no superan el 12%. Oto dato destacable es que a partir de las 5 de la madrugada, casi el 97% de los vaiajes, son hechos por personas que tienen el abono anual."
      ]
    },
    {
      "cell_type": "markdown",
      "metadata": {
        "id": "e9ygIuq90ZUV",
        "colab_type": "text"
      },
      "source": [
        "### **Análisis por rango de edades**\n",
        "\n",
        "Breve análisis del uso nocturno de BiciMad distinguiendo los usuarios por rangos de edades."
      ]
    },
    {
      "cell_type": "markdown",
      "metadata": {
        "id": "YSALHRjwFgfn",
        "colab_type": "text"
      },
      "source": [
        "Otro punto interesante, seria estudiar la diferencia en los usos segun los rangos de edad"
      ]
    },
    {
      "cell_type": "code",
      "metadata": {
        "id": "VZ4Tc3vhFvK9",
        "colab_type": "code",
        "outputId": "d8c0ea1b-26c0-4936-9a10-b987a00e33bb",
        "colab": {
          "base_uri": "https://localhost:8080/",
          "height": 299
        }
      },
      "source": [
        "#Empezemos estudiando los usos nocturnos en fines de semana.\n",
        "\"\"\"\n",
        "Tenemos en cuenta que:\n",
        "0: no se identifica\n",
        "1: entre 0 y 16 años\n",
        "2: entre 17 y 18 años\n",
        "3: entre 19 y 26 años\n",
        "4: entre 27 y 40 años\n",
        "5: entre 41 y 65 años\n",
        "6: 66 años o más\n",
        "\"\"\"\n",
        "rddW_ages = rddWeekend.map(lambda x: (x['age'], 1)).countByKey()\n",
        "print(sorted(rddW_ages.items(), key=lambda x:x[0]))\n",
        "plt.bar(list(rddW_ages.keys()), list(rddW_ages.values()))\n",
        "plt.title('Viajes segun los rangos de edad en fin de semana')\n",
        "plt.show()"
      ],
      "execution_count": 0,
      "outputs": [
        {
          "output_type": "stream",
          "text": [
            "[(0, 51330), (1, 1320), (2, 695), (3, 7748), (4, 24374), (5, 12343), (6, 234)]\n"
          ],
          "name": "stdout"
        },
        {
          "output_type": "display_data",
          "data": {
            "image/png": "[encoded data removed]",
            "text/plain": [
              "<Figure size 432x288 with 1 Axes>"
            ]
          },
          "metadata": {
            "tags": [],
            "needs_background": "light"
          }
        }
      ]
    },
    {
      "cell_type": "markdown",
      "metadata": {
        "id": "uRQ8LMm1JYfc",
        "colab_type": "text"
      },
      "source": [
        "A parte de los usuarios no identificados, los que más hacen un uso nocturno los fines de semana son los que están en la franja de edad de entre 27 y 40 años, lo que nos puede indicar que parte de la gente que utiliza bicimad es gente joven. Veamos ahora si este comportamiento es similiar a los dias entre semana."
      ]
    },
    {
      "cell_type": "code",
      "metadata": {
        "id": "iKWxf5K0KRSP",
        "colab_type": "code",
        "outputId": "23d286c2-3038-4ff3-d9ba-a1d7fa52e316",
        "colab": {
          "base_uri": "https://localhost:8080/",
          "height": 299
        }
      },
      "source": [
        "#Partimos de la RDD que tenia los datos filtrados por las horas nocturnas,\n",
        "#y con poner en filter, que no sea fin de semana, tendremos los días laborables.\n",
        "rddWD_ages = rddNocturna.filter(lambda x: not weekend(x, True)).map(lambda x: (x['age'])).countByValue()\n",
        "print(sorted(rddWD_ages.items(), key=lambda x:x[0]))\n",
        "plt.bar(list(rddWD_ages.keys()), list(rddWD_ages.values()))\n",
        "plt.title('Viajes segun los rangos de edad en días laborables')\n",
        "plt.show()"
      ],
      "execution_count": 0,
      "outputs": [
        {
          "output_type": "stream",
          "text": [
            "[(0, 42262), (1, 1837), (2, 489), (3, 5698), (4, 19877), (5, 11616), (6, 116)]\n"
          ],
          "name": "stdout"
        },
        {
          "output_type": "display_data",
          "data": {
            "image/png": "[encoded data removed]",
            "text/plain": [
              "<Figure size 432x288 with 1 Axes>"
            ]
          },
          "metadata": {
            "tags": [],
            "needs_background": "light"
          }
        }
      ]
    },
    {
      "cell_type": "markdown",
      "metadata": {
        "id": "0DE4bLS-GLXe",
        "colab_type": "text"
      },
      "source": [
        "Aunque ambas gráficas son muy parecidas, pero mirando el numero exacto de datos, se observa un claro aumento de los usurios de tipo 3 y 4 en los fines de semana, que son aquellos cuyas edades están entre 19 y 26 años y entre 27 y 40 años respectivamente. Podemos suponer por lo tanto, que los usuarios jóvenes son los que más demanda tienen en horas nocturnas, y por ser más concretos, las personas mayores de edad. Además, hay que tener en cuenta que los datos recogidos los fines de semana se establecen en menos días que los datos de diario por lo que el porcentaje de crecimiento es aun mayor. \n",
        "\n",
        "Esto tiene bastante que ver con las gráficas vistas anteriormente en las que se observa claramente como hay un mayor uso los fines de semana.\n"
      ]
    },
    {
      "cell_type": "markdown",
      "metadata": {
        "id": "1Q81IyBrJfBr",
        "colab_type": "text"
      },
      "source": [
        "En estos datos analizados, estamos teniendo en cuenta aquellos que se obtienen por los trabajadores de la empresa y como no nos interesan, veamos si hay algún cambio mayor suprimiendo a los trabajadores."
      ]
    },
    {
      "cell_type": "code",
      "metadata": {
        "id": "EIvxTnCIJ8QW",
        "colab_type": "code",
        "outputId": "0db1da6d-0522-402a-a567-f2a1000bb14a",
        "colab": {
          "base_uri": "https://localhost:8080/",
          "height": 52
        }
      },
      "source": [
        "#eliminamos a los trabajadores de la empresa\n",
        "rddWD_ages2 = rddNocturna.filter(lambda x: not(weekend(x, True)) and x['user_type'] != 3).map(lambda x: (x['age'])).countByValue()\n",
        "rddW_ages2 = rddWeekend.filter(lambda x: not(x['user_type'] == 3)).map(lambda x: x['age']).countByValue()\n",
        "print(\"Días laborables:\", sorted(rddWD_ages2.items(), key=lambda x:x[0]))\n",
        "print(\"Fines de semana:\", sorted(rddW_ages2.items(), key=lambda x:x[0]))"
      ],
      "execution_count": 0,
      "outputs": [
        {
          "output_type": "stream",
          "text": [
            "Días laborables: [(0, 37742), (1, 29), (2, 489), (3, 5698), (4, 15747), (5, 7568), (6, 116)]\n",
            "Fines de semana: [(0, 48590), (1, 71), (2, 695), (3, 7743), (4, 22304), (5, 9485), (6, 234)]\n"
          ],
          "name": "stdout"
        }
      ]
    },
    {
      "cell_type": "markdown",
      "metadata": {
        "id": "9MKmESvVRw9P",
        "colab_type": "text"
      },
      "source": [
        "Los datos son muy parecidos, aunque se observa, como habiamos visto antes un mayor decrecimiento en los datos diarios ya que hay un mayor uso por parte de los trabajdores."
      ]
    },
    {
      "cell_type": "markdown",
      "metadata": {
        "id": "SgZ4W4Ms5_8P",
        "colab_type": "text"
      },
      "source": [
        "Otra de las cosas que puede ser interesante analizar distinguiendo por rango de edades, son el uso por horas nocturnas. Una vez más tomaremos los datos sin la aportación de los trabajadores y además, quitaremos los datos también de los usuarios con edad de tipo 0 (no se ha podido distinguir su edad) para una visión más clara."
      ]
    },
    {
      "cell_type": "code",
      "metadata": {
        "id": "Cwo95bDR6Ppp",
        "colab_type": "code",
        "outputId": "6c9802ec-d679-473b-b749-c51914dc91b4",
        "colab": {
          "base_uri": "https://localhost:8080/",
          "height": 1000
        }
      },
      "source": [
        "#Los nombres en el gráfico salen 'desordenados' pero bueno, yo creo que da igual.\n",
        "for i in range(len(horas)):\n",
        "  grafica(rddHoras.filter(lambda x: x[0] == horas[i]).filter(lambda x: x[1][1] != 0).map(lambda x: (x[1][1], 1)).sortByKey().countByKey(), i, 'edad')"
      ],
      "execution_count": 0,
      "outputs": [
        {
          "output_type": "display_data",
          "data": {
            "image/png": "[encoded data removed]",
            "text/plain": [
              "<Figure size 432x288 with 1 Axes>"
            ]
          },
          "metadata": {
            "tags": []
          }
        },
        {
          "output_type": "display_data",
          "data": {
            "image/png": "[encoded data removed]",
            "text/plain": [
              "<Figure size 432x288 with 1 Axes>"
            ]
          },
          "metadata": {
            "tags": []
          }
        },
        {
          "output_type": "display_data",
          "data": {
            "image/png": "[encoded data removed]",
            "text/plain": [
              "<Figure size 432x288 with 1 Axes>"
            ]
          },
          "metadata": {
            "tags": []
          }
        },
        {
          "output_type": "display_data",
          "data": {
            "image/png": "[encoded data removed]",
            "text/plain": [
              "<Figure size 432x288 with 1 Axes>"
            ]
          },
          "metadata": {
            "tags": []
          }
        },
        {
          "output_type": "display_data",
          "data": {
            "image/png": "[encoded data removed]",
            "text/plain": [
              "<Figure size 432x288 with 1 Axes>"
            ]
          },
          "metadata": {
            "tags": []
          }
        },
        {
          "output_type": "display_data",
          "data": {
            "image/png": "[encoded data removed]",
            "text/plain": [
              "<Figure size 432x288 with 1 Axes>"
            ]
          },
          "metadata": {
            "tags": []
          }
        }
      ]
    },
    {
      "cell_type": "markdown",
      "metadata": {
        "id": "rltuugM_OonA",
        "colab_type": "text"
      },
      "source": [
        "Como podemos ver, no se observa ningún cambio destacable entre las horas. Lo único más notorio, puede ser quizás, que los que están en el rango de edad de tipo 1 (menores de 16 años) empiezan a decrecer un poco a partir de las 3 de la madrugada, lo que por otra parte, es lógico."
      ]
    },
    {
      "cell_type": "code",
      "metadata": {
        "id": "6s0E8uQaWGmc",
        "colab_type": "code",
        "outputId": "119258e5-9cb9-46ff-e859-204efce38e9e",
        "colab": {
          "base_uri": "https://localhost:8080/",
          "height": 55
        }
      },
      "source": [
        "\"\"\"\n",
        "#Esta RDD ya tiene los datos importantes usando la funcion mapper        \n",
        "rddNocturna_ordenada = rddNocturna_datos.map(lambda x: (x[2], 1)).groupByKey().mapValues(tuple).map(lambda x: (len(x[1]), x[0]))\n",
        "rddNocturna_ordenada.sortByKey(False).map(lambda x: (x[1], x[0])).take(50)\n",
        "\"\"\""
      ],
      "execution_count": 0,
      "outputs": [
        {
          "output_type": "execute_result",
          "data": {
            "text/plain": [
              "'\\n#Esta RDD ya tiene los datos importantes usando la funcion mapper        \\nrddNocturna_ordenada = rddNocturna_datos.map(lambda x: (x[2], 1)).groupByKey().mapValues(tuple).map(lambda x: (len(x[1]), x[0]))\\nrddNocturna_ordenada.sortByKey(False).map(lambda x: (x[1], x[0])).take(50)\\n'"
            ]
          },
          "metadata": {
            "tags": []
          },
          "execution_count": 45
        }
      ]
    },
    {
      "cell_type": "code",
      "metadata": {
        "id": "4qFuPWzcWJca",
        "colab_type": "code",
        "outputId": "5b33a936-e768-4f24-8199-c17ab4d09e82",
        "colab": {
          "base_uri": "https://localhost:8080/",
          "height": 35
        }
      },
      "source": [
        "\"\"\"\n",
        "rddNocturna_datos.filter(lambda x: x[2] == 57).map(lambda x: (x[2], x[3])).take(30)\n",
        "\"\"\""
      ],
      "execution_count": 0,
      "outputs": [
        {
          "output_type": "execute_result",
          "data": {
            "text/plain": [
              "'\\nrddNocturna_datos.filter(lambda x: x[2] == 57).map(lambda x: (x[2], x[3])).take(30)\\n'"
            ]
          },
          "metadata": {
            "tags": []
          },
          "execution_count": 46
        }
      ]
    },
    {
      "cell_type": "markdown",
      "metadata": {
        "id": "uiIEjE3OCNa2",
        "colab_type": "text"
      },
      "source": [
        "## **Estaciones más y menos usadas**\n",
        "\n",
        "Esta sección, podríamos incluirla en cada una de las anteriores, por ello, haremos un análisis del uso de las estaciones de forma general, parando en cada uno de los puntos anteriores."
      ]
    },
    {
      "cell_type": "markdown",
      "metadata": {
        "id": "ksCFFbtoCTJt",
        "colab_type": "text"
      },
      "source": [
        "Una de las cosas que sería importante ver para cada uno de los apartados anteriores, son las estaciones más y menos usadas. Por ello, le dedicamos un apartado."
      ]
    },
    {
      "cell_type": "code",
      "metadata": {
        "id": "CxkOwSmGSZGS",
        "colab_type": "code",
        "outputId": "eb608cca-04fe-4bdb-cc01-081879b8a567",
        "colab": {
          "base_uri": "https://localhost:8080/"
        }
      },
      "source": [
        "\"\"\"\n",
        "rddNocturna.take(1)\n",
        "\"\"\""
      ],
      "execution_count": 0,
      "outputs": [
        {
          "output_type": "execute_result",
          "data": {
            "text/plain": [
              "'\\nrddNocturna.take(1)\\n'"
            ]
          },
          "metadata": {
            "tags": []
          },
          "execution_count": 47
        }
      ]
    },
    {
      "cell_type": "markdown",
      "metadata": {
        "id": "MNM2AQsZYwdz",
        "colab_type": "text"
      },
      "source": [
        "LO HE DEJADO A MEDIAS."
      ]
    },
    {
      "cell_type": "code",
      "metadata": {
        "id": "qGtgiWZ_ruV0",
        "colab_type": "code",
        "outputId": "63ff6f40-152e-4577-8b52-47a5610c52d0",
        "colab": {
          "base_uri": "https://localhost:8080/",
          "height": 191
        }
      },
      "source": [
        "listaEsraciones = rddNocturna_estaciones.sortBy(lambda x: x[1], False).take(10)\n",
        "listaEsraciones"
      ],
      "execution_count": 0,
      "outputs": [
        {
          "output_type": "execute_result",
          "data": {
            "text/plain": [
              "[(57, 3887),\n",
              " (38, 3105),\n",
              " (175, 2944),\n",
              " (59, 2790),\n",
              " (19, 2748),\n",
              " (129, 2715),\n",
              " (56, 2619),\n",
              " (1, 2603),\n",
              " (6, 2591),\n",
              " (62, 2427)]"
            ]
          },
          "metadata": {
            "tags": []
          },
          "execution_count": 62
        }
      ]
    },
    {
      "cell_type": "code",
      "metadata": {
        "id": "G5H-eh9g5j-G",
        "colab_type": "code",
        "outputId": "997e7c51-27ac-4bd0-98f0-39f1bd1763f3",
        "colab": {
          "base_uri": "https://localhost:8080/",
          "height": 191
        }
      },
      "source": [
        "#Primero veremos la estación más usada de salida.    \n",
        "EstMasUsadas = rddNocturna.map(lambda x: (x['start'], 1)).reduceByKey(lambda x,y: x+y)\\\n",
        "               .sortBy(lambda x: x[1], False).take(10)\n",
        "#rddNocturna_estaciones.map(lambda x: (x[1], x[0])).sortByKey(False).map(lambda x: (x[1],x[0])).take(10)#Estoy segura de que hay una forma mucho mejor de hacer esto, pero es que ordenando cosas soy malisima\n",
        "EstMasUsadas"
      ],
      "execution_count": 0,
      "outputs": [
        {
          "output_type": "execute_result",
          "data": {
            "text/plain": [
              "[(57, 3887),\n",
              " (38, 3105),\n",
              " (175, 2944),\n",
              " (59, 2790),\n",
              " (19, 2748),\n",
              " (129, 2715),\n",
              " (56, 2619),\n",
              " (1, 2603),\n",
              " (6, 2591),\n",
              " (62, 2427)]"
            ]
          },
          "metadata": {
            "tags": []
          },
          "execution_count": 64
        }
      ]
    },
    {
      "cell_type": "code",
      "metadata": {
        "id": "Mlq81IEJfTiN",
        "colab_type": "code",
        "outputId": "7a95ffc4-bc2f-4a87-f1ac-76a4b5977fc5",
        "colab": {
          "base_uri": "https://localhost:8080/"
        }
      },
      "source": [
        "rddNocturna_estaciones.map(lambda x: (x[1], x[0])).sortByKey(True).map(lambda x: (x[1],x[0])).take(10)"
      ],
      "execution_count": 0,
      "outputs": [
        {
          "output_type": "execute_result",
          "data": {
            "text/plain": [
              "[(190, 29),\n",
              " (183, 30),\n",
              " (207, 30),\n",
              " (200, 34),\n",
              " (213, 46),\n",
              " (201, 48),\n",
              " (211, 50),\n",
              " (119, 67),\n",
              " (185, 80),\n",
              " (184, 81)]"
            ]
          },
          "metadata": {
            "tags": []
          },
          "execution_count": 49
        }
      ]
    },
    {
      "cell_type": "markdown",
      "metadata": {
        "id": "3G8XUV5Zfcwz",
        "colab_type": "text"
      },
      "source": [
        "La estación de la que parten más bicis es la número 57, que se corresponde con la calle/zona de XXXX, y de la que parten menos bicis es la número 29 que se corresponde con la calle/zona de XXXX.\n",
        "Veamos qué estaciones tienen como destino, los trayectos que parten de esta, para ver si podemos ver alguna relación."
      ]
    },
    {
      "cell_type": "markdown",
      "metadata": {
        "id": "aSZkdz0uBYDC",
        "colab_type": "text"
      },
      "source": [
        "# **Comparativa entre un mes de invierno y un mes de verano**\n",
        "\n",
        "Como sabemos, cada estación del año modifica ciertos hábitos de las personas, y pensamos que puede ser una de las cosas que afecte al uso nocturno de BiciMad. Para ver las diferencias que se dan, comparamos un mes de invierno y otro de verano."
      ]
    },
    {
      "cell_type": "markdown",
      "metadata": {
        "id": "lIpc2qmoBi5c",
        "colab_type": "text"
      },
      "source": [
        "AQUÍ SE SUPONE QUE VA LO MISMO QUE LO DE LOS 6 MESES PERO PARA CADA MES ENERO Y JULIO. eN TEORÍA SE IRÍA HACIENDO CADA COSA A LA VEZ EN LOS DOS MESESY SE VA COMPARANDO."
      ]
    },
    {
      "cell_type": "markdown",
      "metadata": {
        "id": "A5-Zr47G_ogp",
        "colab_type": "text"
      },
      "source": [
        "# **Análisis de los trabajadores**\n",
        "Viendo los apartados anteriores, hemos visto, que en algunos casos, puede afectar más o menos el tipo 'trabajador' a los datos por lo que analizaremos los datos ajustados al perfil de trabajador para ver qué información nos aporta."
      ]
    },
    {
      "cell_type": "code",
      "metadata": {
        "id": "2UZqP0d-_47e",
        "colab_type": "code",
        "colab": {}
      },
      "source": [
        "#rdb es el rdd de los trabajadores\n",
        "rddTrabajadores = rdd_usages['2019'].filter(lambda x: x['user_type']==3)#.map(lambda x: ((x[1],[x[i] for i in range(2,7)])))"
      ],
      "execution_count": 0,
      "outputs": []
    },
    {
      "cell_type": "code",
      "metadata": {
        "id": "Hb9S8kHKOXkI",
        "colab_type": "code",
        "outputId": "54829b8e-c13c-4276-c6e6-e1f9be5cfc44",
        "colab": {
          "base_uri": "https://localhost:8080/",
          "height": 173
        }
      },
      "source": [
        "#Debug\n",
        "rddTrabajadores.take(1)"
      ],
      "execution_count": 0,
      "outputs": [
        {
          "output_type": "execute_result",
          "data": {
            "text/plain": [
              "[{'age': 0,\n",
              "  'date': '2019-02-01',\n",
              "  'end': 128,\n",
              "  'hour': '00:00:00',\n",
              "  'start': 128,\n",
              "  'track': None,\n",
              "  'travel_time': 10,\n",
              "  'user_day_code': 'd8865be75a4696f3dec4a2e37039fa97582d1efb310c4324e9203d804f4914c0',\n",
              "  'user_type': 3}]"
            ]
          },
          "metadata": {
            "tags": []
          },
          "execution_count": 35
        }
      ]
    },
    {
      "cell_type": "code",
      "metadata": {
        "id": "BP9GkNnsGTfu",
        "colab_type": "code",
        "outputId": "d57c49c3-5f19-4349-884e-19190270b49d",
        "colab": {
          "base_uri": "https://localhost:8080/",
          "height": 35
        }
      },
      "source": [
        "#rdb por usuarios\n",
        "num_trabajadores = rddTrabajadores.groupBy(lambda x: x['user_day_code']).mapValues(len).count()#Yo pondría aqui el count\n",
        "num_trabajadores\n",
        "#hay 853, diferenciados por día (unos 43 trabajadores fijos??) \n",
        "#Para los 6 meses entonces al haber 4968 trabajadores, (unos 42 trabajadores me salen a mi contando que \n",
        "#en un mes se trabajan unos 20 dias)"
      ],
      "execution_count": 0,
      "outputs": [
        {
          "output_type": "execute_result",
          "data": {
            "text/plain": [
              "4968"
            ]
          },
          "metadata": {
            "tags": []
          },
          "execution_count": 18
        }
      ]
    },
    {
      "cell_type": "code",
      "metadata": {
        "id": "eqr1Q-_VOkti",
        "colab_type": "code",
        "outputId": "7a39fd1e-04df-485c-e568-3e3e1e364927",
        "colab": {
          "base_uri": "https://localhost:8080/",
          "height": 166
        }
      },
      "source": [
        "#rdbpu.take(10)"
      ],
      "execution_count": 0,
      "outputs": [
        {
          "output_type": "error",
          "ename": "NameError",
          "evalue": "ignored",
          "traceback": [
            "\u001b[0;31m---------------------------------------------------------------------------\u001b[0m",
            "\u001b[0;31mNameError\u001b[0m                                 Traceback (most recent call last)",
            "\u001b[0;32m<ipython-input-19-dab58f774c7e>\u001b[0m in \u001b[0;36m<module>\u001b[0;34m()\u001b[0m\n\u001b[0;32m----> 1\u001b[0;31m \u001b[0mrdbpu\u001b[0m\u001b[0;34m.\u001b[0m\u001b[0mtake\u001b[0m\u001b[0;34m(\u001b[0m\u001b[0;36m10\u001b[0m\u001b[0;34m)\u001b[0m\u001b[0;34m\u001b[0m\u001b[0;34m\u001b[0m\u001b[0m\n\u001b[0m",
            "\u001b[0;31mNameError\u001b[0m: name 'rdbpu' is not defined"
          ]
        }
      ]
    },
    {
      "cell_type": "code",
      "metadata": {
        "id": "kATFdteYB30x",
        "colab_type": "code",
        "outputId": "514799ff-c4e5-48d4-f50d-9328b1015568",
        "colab": {
          "base_uri": "https://localhost:8080/",
          "height": 329
        }
      },
      "source": [
        "\"\"\"\n",
        "#rdb por días\n",
        "rdbpd = rdb.map(lambda x: (x[1][3][-3:],1))\n",
        "rdbpd.take(2)\n",
        "pd_dicc=rdbpd.countByKey()\n",
        "pd_list = sorted(pd_dicc.items(), key=lambda x:x[0])\n",
        "plt.figure(figsize=(15,5))\n",
        "plt.bar(pd_dicc.keys(), pd_dicc.values())\n",
        "#no nos da mucha info (quizá ver cuándo son los findes)\n",
        "\"\"\"\n",
        "#rdb por días\n",
        "dicT_dias = rddTrabajadores.map(lambda x: (x['date'][-2:],1)).countByKey()\n",
        "#listT_dias = sorted(dicT_dias.items(), key=lambda x:x[0])\n",
        "plt.figure(figsize=(15,5))\n",
        "plt.bar(dicT_dias.keys(), dicT_dias.values())\n",
        "#no nos da mucha info (quizá ver cuándo son los findes)\"\"\""
      ],
      "execution_count": 0,
      "outputs": [
        {
          "output_type": "execute_result",
          "data": {
            "text/plain": [
              "<BarContainer object of 31 artists>"
            ]
          },
          "metadata": {
            "tags": []
          },
          "execution_count": 36
        },
        {
          "output_type": "display_data",
          "data": {
            "image/png": "[encoded data removed]",
            "text/plain": [
              "<Figure size 1080x360 with 1 Axes>"
            ]
          },
          "metadata": {
            "tags": [],
            "needs_background": "light"
          }
        }
      ]
    },
    {
      "cell_type": "markdown",
      "metadata": {
        "id": "C7JVcIhDTbDf",
        "colab_type": "text"
      },
      "source": [
        "Esta gráfica no nos proporciona gran información. Con ella en general podemos ver que en todos los días hay una afluencia de trabajo muy similar por lo que no hay días descompensados. Al ser los datos de los 6 primeros meses de 2019, tampoco se puede distinguir si es entre semana o fin de semana ya que no siempre son en el mismo día para meses distintos. "
      ]
    },
    {
      "cell_type": "markdown",
      "metadata": {
        "id": "AeLUElCUUIMC",
        "colab_type": "text"
      },
      "source": [
        "Veamos ahora si por horas la distribución cambia."
      ]
    },
    {
      "cell_type": "code",
      "metadata": {
        "id": "5Ck1YZCVFrxJ",
        "colab_type": "code",
        "outputId": "0e506852-ee41-41ea-8f79-ad1104270d0d",
        "colab": {
          "base_uri": "https://localhost:8080/",
          "height": 327
        }
      },
      "source": [
        "\"\"\"\n",
        "#rdb por horas\n",
        "rdbph = rdb.map(lambda x: (x[1][4],x[0]))\n",
        "rdbph.take(2)\n",
        "ph_dicc=rdbph.countByKey()\n",
        "ph_list = sorted(ph_dicc.items(), key=lambda x:x[0])\n",
        "plt.figure(figsize=(15,5))\n",
        "plt.bar(ph_dicc.keys(), ph_dicc.values())\n",
        "\"\"\"\n",
        "\n",
        "#rdb por horas\n",
        "dicT_horas = rddTrabajadores.map(lambda x: (x['hour'][0:2], 1)).countByKey()\n",
        "plt.figure(figsize=(15,5))\n",
        "plt.bar(dicT_horas.keys(), dicT_horas.values())"
      ],
      "execution_count": 0,
      "outputs": [
        {
          "output_type": "execute_result",
          "data": {
            "text/plain": [
              "<BarContainer object of 24 artists>"
            ]
          },
          "metadata": {
            "tags": []
          },
          "execution_count": 41
        },
        {
          "output_type": "display_data",
          "data": {
            "image/png": "[encoded data removed]",
            "text/plain": [
              "<Figure size 1080x360 with 1 Axes>"
            ]
          },
          "metadata": {
            "tags": [],
            "needs_background": "light"
          }
        }
      ]
    },
    {
      "cell_type": "markdown",
      "metadata": {
        "id": "S3wITOnoIKEc",
        "colab_type": "text"
      },
      "source": [
        "Podemos observar como en las horas nocturnas hay más trabajadores a las 00, la 1 y las 2, que son las horas en las que hay una mayor afluencia de usuarios como hemos observado anteriormente. También hay picos de trabajadores en las primeras horas de la mañana y a partir de las 15 horas, que se corresponden con la entrada y salida diaria del horario laboral. "
      ]
    },
    {
      "cell_type": "code",
      "metadata": {
        "id": "Y5ENYzf4LQfa",
        "colab_type": "code",
        "colab": {}
      },
      "source": [
        "def reparacion(data):\n",
        "  #se trata de una reparación en la misma estación\n",
        "  user = data['user_type']\n",
        "  start = data['start']\n",
        "  end = data['end']\n",
        "  return user==3 and start==end #Lo de user==3 no haria falta ya que ya esta hecho en la rdd no?\n",
        "def traslado(data):\n",
        "  #se trata de una reparación en la misma estación\n",
        "  user = data['user_type']\n",
        "  start = data['start']\n",
        "  end = data['end']\n",
        "  return user==3 and start!=end\n",
        "def no_funciona (data):\n",
        "  #se trata de una reparación en la misma estación\n",
        "  user = data['user_type']\n",
        "  start = data['start']\n",
        "  end = data['end']\n",
        "  time = data['travel_time']\n",
        "  return user!=3 and start==end #and time < 121"
      ],
      "execution_count": 0,
      "outputs": []
    },
    {
      "cell_type": "code",
      "metadata": {
        "id": "po9-P9ijNSvl",
        "colab_type": "code",
        "outputId": "82efd24a-e60b-442e-ee09-fc38617d5389",
        "colab": {
          "base_uri": "https://localhost:8080/",
          "height": 173
        }
      },
      "source": [
        "\"\"\"\n",
        "Esta celda se podría quitar yo creo ya que no hace falta usar el valor repN y asi nos ahorramos una rdd\n",
        "\"\"\"\n",
        "#nos quedamos con las reparaciones\n",
        "rddrep = rddTrabajadores.filter(reparacion)\n",
        "repN = rddrep.count() #hay 5361 veamos cuantas son reparadas de verdad, o solo comprobadas\n",
        "rddrep.take(1)"
      ],
      "execution_count": 0,
      "outputs": [
        {
          "output_type": "execute_result",
          "data": {
            "text/plain": [
              "[{'age': 0,\n",
              "  'date': '2019-02-01',\n",
              "  'end': 128,\n",
              "  'hour': '00:00:00',\n",
              "  'start': 128,\n",
              "  'track': None,\n",
              "  'travel_time': 10,\n",
              "  'user_day_code': 'd8865be75a4696f3dec4a2e37039fa97582d1efb310c4324e9203d804f4914c0',\n",
              "  'user_type': 3}]"
            ]
          },
          "metadata": {
            "tags": []
          },
          "execution_count": 40
        }
      ]
    },
    {
      "cell_type": "markdown",
      "metadata": {
        "id": "8jng8Km9_oWC",
        "colab_type": "text"
      },
      "source": [
        "Comprobemos ahora que número de bicicletas tienen que ser reparadas y cuales tan solo son comprobadas. Para ello, como filtro usaremos que aquellas comprobaciones que se han necesitado más de 1 minuto serán consideradas como una reparación por parte del trabajador"
      ]
    },
    {
      "cell_type": "code",
      "metadata": {
        "id": "gXKDqS3oyy6h",
        "colab_type": "code",
        "colab": {}
      },
      "source": [
        "limite=61\n",
        "comprobada = rddTrabajadores.filter(lambda x: reparacion(x) and x['travel_time']<limite).count()\n",
        "reparada = rddTrabajadores.filter(lambda x: reparacion(x) and x['travel_time']>=limite).count()"
      ],
      "execution_count": 0,
      "outputs": []
    },
    {
      "cell_type": "code",
      "metadata": {
        "id": "XT_Goc46RzH9",
        "colab_type": "code",
        "outputId": "b47d4311-2050-4085-d461-9c721ac6f05e",
        "colab": {
          "base_uri": "https://localhost:8080/",
          "height": 301
        }
      },
      "source": [
        "print('Proporción de reparaciones rápidas', \"{0:.2f}\".format(100*comprobada/(reparada+comprobada)),'%') #proporción del 95% de reparaciones rápidas\n",
        "plt.figure(figsize=(10,4))\n",
        "plt.bar((\"reparaciones rápidas\",\"reparaciones pausadas\"),(comprobada,reparada))"
      ],
      "execution_count": 0,
      "outputs": [
        {
          "output_type": "stream",
          "text": [
            "Proporción de reparaciones rápidas 95.08 %\n"
          ],
          "name": "stdout"
        },
        {
          "output_type": "execute_result",
          "data": {
            "text/plain": [
              "<BarContainer object of 2 artists>"
            ]
          },
          "metadata": {
            "tags": []
          },
          "execution_count": 44
        },
        {
          "output_type": "display_data",
          "data": {
            "image/png": "[encoded data removed]",
            "text/plain": [
              "<Figure size 720x288 with 1 Axes>"
            ]
          },
          "metadata": {
            "tags": [],
            "needs_background": "light"
          }
        }
      ]
    },
    {
      "cell_type": "markdown",
      "metadata": {
        "id": "i2EgCt46TEP5",
        "colab_type": "text"
      },
      "source": [
        "El 95% de las bicis no recibe una reparación pausada por lo que se puede ver como los usuarios hacen un buen uso de bicimad. Así los trabajadores podrán centrarse tan solo en reorganizar las bicicletas para mantener el equilibrio en las estaciones."
      ]
    },
    {
      "cell_type": "code",
      "metadata": {
        "id": "i_1l0FZbUybR",
        "colab_type": "code",
        "colab": {}
      },
      "source": [
        "#nos quedamos con los traslados\n",
        "rddTraslado = rddTrabajadores.filter(traslado)\n",
        "traslados = rddTraslado.count() #16115\n",
        "rddtras.take(1)"
      ],
      "execution_count": 0,
      "outputs": []
    },
    {
      "cell_type": "code",
      "metadata": {
        "id": "ecOTSb5QVSYt",
        "colab_type": "code",
        "outputId": "ae56862a-4983-460b-a752-05ff4692dd1e",
        "colab": {
          "base_uri": "https://localhost:8080/",
          "height": 295
        }
      },
      "source": [
        "#Veamos ahroa en un gráfico la comparación \n",
        "plt.figure(figsize=(6,4))\n",
        "plt.bar((\"reparadas+\\ncomprobadas\",\"traslados\"),(comprobada+reparada, traslados))"
      ],
      "execution_count": 0,
      "outputs": [
        {
          "output_type": "execute_result",
          "data": {
            "text/plain": [
              "<BarContainer object of 2 artists>"
            ]
          },
          "metadata": {
            "tags": []
          },
          "execution_count": 66
        },
        {
          "output_type": "display_data",
          "data": {
            "image/png": "[encoded data removed]",
            "text/plain": [
              "<Figure size 432x288 with 1 Axes>"
            ]
          },
          "metadata": {
            "tags": [],
            "needs_background": "light"
          }
        }
      ]
    },
    {
      "cell_type": "markdown",
      "metadata": {
        "id": "W90P2RcnoP6Y",
        "colab_type": "text"
      },
      "source": [
        "El gráfico nos muestra como la mayoría de movimientos que realizan los trabajadores son traslados de bicicletas entre estaciones, por lo que será interesante analizar más adelante como son estos trayectos "
      ]
    },
    {
      "cell_type": "markdown",
      "metadata": {
        "id": "q3KlyexjrSEW",
        "colab_type": "text"
      },
      "source": [
        "Veamos ahora si los traslados se realizan a las estaciones más usadas, calculadas en el apartado anterior.\n",
        "También es interesante comporbar si las estaciones que son menos usadas son de las que se trasladan las bicicletas a aquellas estaciones que tienen una mayor demanda"
      ]
    },
    {
      "cell_type": "code",
      "metadata": {
        "id": "6jVVnpY-ubQf",
        "colab_type": "code",
        "outputId": "990ff826-e8e8-49f1-e9e5-f4382f32eda0",
        "colab": {
          "base_uri": "https://localhost:8080/",
          "height": 191
        }
      },
      "source": [
        "lisTrasl = rddTraslado.map(lambda x: (x['end'], 1)).reduceByKey(lambda x, y: x+y).sortBy(lambda x: x[1], False).take(10)\n",
        "\"Las estaciones en las que se reponen más bicicletas son:\"\n",
        "lisTrasl"
      ],
      "execution_count": 0,
      "outputs": [
        {
          "output_type": "execute_result",
          "data": {
            "text/plain": [
              "[(162, 3038),\n",
              " (91, 2933),\n",
              " (154, 2295),\n",
              " (108, 2143),\n",
              " (109, 2141),\n",
              " (139, 1906),\n",
              " (102, 1890),\n",
              " (83, 1849),\n",
              " (167, 1812),\n",
              " (129, 1777)]"
            ]
          },
          "metadata": {
            "tags": []
          },
          "execution_count": 74
        }
      ]
    },
    {
      "cell_type": "code",
      "metadata": {
        "id": "5D5ZOoLewqZ8",
        "colab_type": "code",
        "colab": {}
      },
      "source": [
        " EstMasUsadas"
      ],
      "execution_count": 0,
      "outputs": []
    },
    {
      "cell_type": "code",
      "metadata": {
        "id": "7uu4KPRAwP2N",
        "colab_type": "code",
        "outputId": "5a750776-25da-433a-fb62-7b678d57e057",
        "colab": {
          "base_uri": "https://localhost:8080/",
          "height": 191
        }
      },
      "source": [
        "rddTraslado.map(lambda x: (x['start'], 1)).reduceByKey(lambda x, y: x+y).sortBy(lambda x: x[1], False).take(10)"
      ],
      "execution_count": 0,
      "outputs": [
        {
          "output_type": "execute_result",
          "data": {
            "text/plain": [
              "[(135, 6402),\n",
              " (129, 6190),\n",
              " (132, 4750),\n",
              " (162, 3603),\n",
              " (82, 3597),\n",
              " (133, 3424),\n",
              " (175, 3359),\n",
              " (83, 3283),\n",
              " (128, 3107),\n",
              " (43, 2850)]"
            ]
          },
          "metadata": {
            "tags": []
          },
          "execution_count": 70
        }
      ]
    },
    {
      "cell_type": "code",
      "metadata": {
        "id": "IepQLqbAwUPl",
        "colab_type": "code",
        "outputId": "3d878a72-897d-4dc9-9d8d-d6dd2c1c0727",
        "colab": {
          "base_uri": "https://localhost:8080/",
          "height": 55
        }
      },
      "source": [
        "\"\"\"\n",
        "Habria que comentar esto y lo de abajo ya no es mucho de trabajadores creo por lo que no se si habria\n",
        "ponerlo\n",
        "\"\"\""
      ],
      "execution_count": 0,
      "outputs": [
        {
          "output_type": "execute_result",
          "data": {
            "text/plain": [
              "'\\nHabria que comentar esto y lo de abajo ya no es mucho de trabajadores creo por lo que no se si habria\\nponerlo\\n'"
            ]
          },
          "metadata": {
            "tags": []
          },
          "execution_count": 75
        }
      ]
    },
    {
      "cell_type": "markdown",
      "metadata": {
        "id": "8Td4FIwnueh_",
        "colab_type": "text"
      },
      "source": [
        ""
      ]
    },
    {
      "cell_type": "code",
      "metadata": {
        "id": "-DJa6ebAVgoh",
        "colab_type": "code",
        "outputId": "90e197f1-e649-44b0-a279-19c88eb92b3f",
        "colab": {
          "base_uri": "https://localhost:8080/",
          "height": 173
        }
      },
      "source": [
        "#nos quedamos con los viajes en que no funciona la bici\n",
        "rddnof = rdd_usages['2019'].filter(no_funciona)\n",
        "nofN = rddnof.count() #16115\n",
        "rddnof.take(1)"
      ],
      "execution_count": 0,
      "outputs": [
        {
          "output_type": "execute_result",
          "data": {
            "text/plain": [
              "[{'age': 0,\n",
              "  'date': '2019-02-01',\n",
              "  'end': 131,\n",
              "  'hour': '00:00:00',\n",
              "  'start': 131,\n",
              "  'track': None,\n",
              "  'travel_time': 985,\n",
              "  'user_day_code': '38b4e13102db5583f6d465f192cf343ed682a17749886308ae1b189335b06da9',\n",
              "  'user_type': 1}]"
            ]
          },
          "metadata": {
            "tags": []
          },
          "execution_count": 52
        }
      ]
    },
    {
      "cell_type": "code",
      "metadata": {
        "id": "Q26J0PupWRjQ",
        "colab_type": "code",
        "colab": {}
      },
      "source": [
        "qwe = rddnof.map(lambda x: (x[4],1)).groupByKey().mapValues(len)\n",
        "qwe.count()"
      ],
      "execution_count": 0,
      "outputs": []
    },
    {
      "cell_type": "code",
      "metadata": {
        "id": "yImxNMu3WKyK",
        "colab_type": "code",
        "colab": {}
      },
      "source": [
        "#vamos a ver cuantos de los que cogen la bici por la noche la cogen luego otra vez en ese día\n",
        "#sin contar trabajadores\n",
        "rdda = rdd_raw.map(mapper).filter(lambda x: x[0]!=3).map(lambda x: ((x[0],x[1]),tuple(x[2:7])))\n",
        "rdda.take(2)"
      ],
      "execution_count": 0,
      "outputs": []
    },
    {
      "cell_type": "code",
      "metadata": {
        "id": "Acasy0IZXx8Y",
        "colab_type": "code",
        "colab": {}
      },
      "source": [
        "a1 = rdda.groupByKey().mapValues(len).filter(lambda x: x[1]==1).count() #cuantos hacen solo un viaje:  89036"
      ],
      "execution_count": 0,
      "outputs": []
    },
    {
      "cell_type": "code",
      "metadata": {
        "id": "aVqZtS22X0yx",
        "colab_type": "code",
        "colab": {}
      },
      "source": [
        "a2 = rdda.groupByKey().mapValues(len).filter(lambda x: x[1]!=1).count() #cuantos hacen mas de un viaje: 68954"
      ],
      "execution_count": 0,
      "outputs": []
    },
    {
      "cell_type": "code",
      "metadata": {
        "id": "2wkhzn8EZF1E",
        "colab_type": "code",
        "colab": {}
      },
      "source": [
        "rddan = rdda.map(lambda x: (x[0],int(x[1][4])))"
      ],
      "execution_count": 0,
      "outputs": []
    },
    {
      "cell_type": "code",
      "metadata": {
        "id": "jVuW3R6wcSA9",
        "colab_type": "code",
        "colab": {}
      },
      "source": [
        "rddan.take(1)"
      ],
      "execution_count": 0,
      "outputs": []
    },
    {
      "cell_type": "code",
      "metadata": {
        "id": "WBXfcwRuknn4",
        "colab_type": "code",
        "colab": {}
      },
      "source": [
        "def to_list(a):\n",
        "    return [a]\n",
        "\n",
        "def append(a, b):\n",
        "    a.append(b)\n",
        "    return a\n",
        "\n",
        "def extend(a, b):\n",
        "    a.extend(b)\n",
        "    return a"
      ],
      "execution_count": 0,
      "outputs": []
    },
    {
      "cell_type": "code",
      "metadata": {
        "id": "K5r71I1coMfK",
        "colab_type": "code",
        "colab": {}
      },
      "source": [
        "qwe = rddan.combineByKey(to_list, append, extend).map(lambda x: (sorted(x[1]),x[0]))"
      ],
      "execution_count": 0,
      "outputs": []
    },
    {
      "cell_type": "code",
      "metadata": {
        "id": "boOhNnmKokGH",
        "colab_type": "code",
        "colab": {}
      },
      "source": [
        "qwe.take(3)"
      ],
      "execution_count": 0,
      "outputs": []
    },
    {
      "cell_type": "code",
      "metadata": {
        "id": "T-W_nEtAl4uW",
        "colab_type": "code",
        "colab": {}
      },
      "source": [
        "qwe1 = qwe.filter(lambda x: len(x[0])==1 and min(x[0])<6)\n",
        "qwe2 = qwe.filter(lambda x: len(x[0])>1 and min(x[0])<6)"
      ],
      "execution_count": 0,
      "outputs": []
    },
    {
      "cell_type": "code",
      "metadata": {
        "id": "FFqHITavmJbd",
        "colab_type": "code",
        "colab": {}
      },
      "source": [
        "qwe1.count() #10698 la usan solo una vez"
      ],
      "execution_count": 0,
      "outputs": []
    },
    {
      "cell_type": "code",
      "metadata": {
        "id": "wTIiN8W-n6D6",
        "colab_type": "code",
        "colab": {}
      },
      "source": [
        "qwe2.count() #7915 la usan más veces además de en horario nocturno"
      ],
      "execution_count": 0,
      "outputs": []
    },
    {
      "cell_type": "code",
      "metadata": {
        "id": "HA3y-XN2prcv",
        "colab_type": "code",
        "colab": {}
      },
      "source": [
        "#ahora vemos de estos las proporciones de usuarios de tipo 1 y 2\n",
        "qwe11=qwe1.filter(lambda x: x[1][0]==1).count()\n",
        "qwe12=qwe1.filter(lambda x: x[1][0]==2).count()"
      ],
      "execution_count": 0,
      "outputs": []
    },
    {
      "cell_type": "code",
      "metadata": {
        "id": "_gKw_c1jqPWQ",
        "colab_type": "code",
        "colab": {}
      },
      "source": [
        "qwe21=qwe2.filter(lambda x: x[1][0]==1).count()\n",
        "qwe22=qwe2.filter(lambda x: x[1][0]==2).count()"
      ],
      "execution_count": 0,
      "outputs": []
    },
    {
      "cell_type": "markdown",
      "metadata": {
        "id": "c51Tzz5PWhSO",
        "colab_type": "text"
      },
      "source": [
        "# \"\"\"**PROBLEMA**\"\"\"\n",
        "  \"\"\"Un usuario desea viajar de una estación a otra en una cierta hora pero no sabe como será la disponibilidad de bicicletas en ese sitio ni si habrá sitio en el lugar de destino, por lo que basando en el historial de ese mismo mes, veremos si el cliente podrá realizar su viaje sin problemas.\"\"\""
      ]
    },
    {
      "cell_type": "code",
      "metadata": {
        "id": "BCVO8hysXP3G",
        "colab_type": "code",
        "colab": {}
      },
      "source": [
        "\"\"\"\n",
        "origen = input('Estación de la que se desea partir: ')\n",
        "destino = input('Estación a la que se desea llegar: ')\n",
        "hora_Viaje = input('Hora a la que se desea realizar el viaje: ')\n",
        "\"\"\""
      ],
      "execution_count": 0,
      "outputs": []
    },
    {
      "cell_type": "markdown",
      "metadata": {
        "id": "EdMt5GtPZHRu",
        "colab_type": "text"
      },
      "source": [
        "\"\"\"\n",
        "Voy a hacer un filtrado simple del fichero de datos de las situaciones de las estaciones para ver como podriamos obtener la informacion que nos interesa dependiendo de la estacion del cliente.\n",
        "\"\"\""
      ]
    },
    {
      "cell_type": "code",
      "metadata": {
        "id": "Y56-esIUqxQQ",
        "colab_type": "code",
        "colab": {}
      },
      "source": [
        "\"\"\"\n",
        "#Hagamos una lista con los datos de todas las estaciones para tenerlos a \n",
        "def crearDiEst(lista):\n",
        "  dicEstac = {}\n",
        "  for station in lista:\n",
        "    dicEstac[station['number']] = {}\n",
        "    dicEstac[station['number']]['id'] = station['id']\n",
        "    dicEstac[station['number']]['latitude'] = station['latitude']\n",
        "    dicEstac[station['number']]['longitude'] = station['longitude']\n",
        "    dicEstac[station['number']]['name'] = station['name']\n",
        "    dicEstac[station['number']]['total_bases'] = station['total_bases']\n",
        "  return dicEstac\n",
        "\n",
        "listEstacion = rdd_stations['201901'].map(lambda x: crearDiEst(x['station'])).take(1)\n",
        "dicEstaciones = listEstacion[0]\n",
        "dicEstaciones['57']#Datos de la estacion 57\n",
        "\"\"\""
      ],
      "execution_count": 0,
      "outputs": []
    },
    {
      "cell_type": "code",
      "metadata": {
        "id": "mAjDLNd4ar3A",
        "colab_type": "code",
        "colab": {}
      },
      "source": [
        "\"\"\"\n",
        "#Intentemos ver ahora la probabilidad de encontrar bici a la hora que nos dice el cliente.\n",
        "#De momento establezco yo la hora por comodidad, la estacion de origen y destino tambien\n",
        "origen = '57'\n",
        "destino = '38'\n",
        "horaCliente = '03:00:00'\n",
        "\"\"\""
      ],
      "execution_count": 0,
      "outputs": []
    },
    {
      "cell_type": "code",
      "metadata": {
        "id": "XeSKsPb1bCy0",
        "colab_type": "code",
        "colab": {}
      },
      "source": [
        "\"\"\"\n",
        "#De todas las estaciones que hay en todos los datos vamos a quedarnos tan solo con los que son de la estacion que queremos\n",
        "def estaciones(lista):\n",
        "  filtro = []\n",
        "  for estacion in lista['station']:\n",
        "    if estacion['number'] == origen or estacion['number'] == destino:\n",
        "      filtro.append(estacion)\n",
        "  return {\"day\":lista['day'],\n",
        "          \"hour\":lista['hour'],\n",
        "          \"station\":filtro}\n",
        "\n",
        "rddE_Sit_fil = rdd_stations['2019'].map(estaciones)\n",
        "rddE_Sit_fil.take(3)\n",
        "\"\"\"\n"
      ],
      "execution_count": 0,
      "outputs": []
    },
    {
      "cell_type": "code",
      "metadata": {
        "id": "CiBsSYYOKCCU",
        "colab_type": "code",
        "colab": {}
      },
      "source": [
        "\"\"\"\n",
        "#Veamos ahora la probabilidad de que el usuario encuentre una bici disponible en la estacion de partida\n",
        "\n",
        "def filtPorHora(hora, rango):\n",
        "    horaViaje = int(horaCliente[0:2]) * 3600 + int(horaCliente[3:5]) * 60 + int(horaCliente[6:8])\n",
        "    horaDatos = int(hora[0:2]) * 3600 + int(hora[3:5]) * 60 + int(hora[6:8])\n",
        "    if horaViaje - rango < 0: #Por si la hora que nos dan es menor que la 1\n",
        "      return horaDatos < horaViaje + rango\n",
        "    else:\n",
        "      return horaViaje - rango < horaDatos < horaViaje + rango\n",
        "\n",
        "def calcularBicisLibres(lista):\n",
        "  #bicisLibres = []\n",
        "  for station in lista:\n",
        "    if station['number'] == origen:\n",
        "      return station['dock_bikes'] - station['reservations_count'] - station['no_available']\n",
        "\n",
        "bicisLibres = rddE_Sit_fil.filter(lambda x: filtPorHora(x['hour'], 3600)).map(lambda x: [calcularBicisLibres(x['station'])]).reduce(lambda a, b: a+b)\n",
        "\n",
        "print('La media de bicicletas libres respecto a la hora elegida es:',int(stats.mean(bicisLibres)))\n",
        "#La media esta realizada para los datos obtenidos en el rango una hora respecto a la dicha por el cliente\n",
        "\n",
        "#Por lo tanto la probabilidad de que encuentre una bici disponible es la siguiente\n",
        "basesTotales = dicEstaciones[origen]['total_bases']\n",
        "prob = sum(bicisLibres) / (basesTotales * len(bicisLibres))\n",
        "print('La probabilidad de que haya una bicicleta libre es del', str(100*prob)+'%')\n",
        "\"\"\""
      ],
      "execution_count": 0,
      "outputs": []
    },
    {
      "cell_type": "markdown",
      "metadata": {
        "id": "oMiZlGyZviMM",
        "colab_type": "text"
      },
      "source": [
        "\"\"\"Antes de esto que esta hecho, podriamos hacer unas graficas indicando las hora en las que se hacen esos viajes, si son mas comunes en fin de semana o entre semana... (Le podemos dar el toque nocturno y ademas usar todo lo que esta arriba de los graficos que tiene relacion con esto)\"\"\""
      ]
    },
    {
      "cell_type": "markdown",
      "metadata": {
        "id": "_crjdx0PuxE1",
        "colab_type": "text"
      },
      "source": [
        "Primero vamos a hacer un analisis del viaje que quiere realizar el cliente"
      ]
    },
    {
      "cell_type": "code",
      "metadata": {
        "id": "AJN1dcA-YyfH",
        "colab_type": "code",
        "colab": {}
      },
      "source": [
        "\"\"\"rdd_viaje= rdd_usages['2019'].filter(lambda x: x['start'] == int(origen) and x['end'] == int(destino))\n",
        "print('Total de viajes similares al del cliente: ', rdd_viaje.count())\"\"\""
      ],
      "execution_count": 0,
      "outputs": []
    },
    {
      "cell_type": "code",
      "metadata": {
        "id": "WY5lJYnCvF5a",
        "colab_type": "code",
        "colab": {}
      },
      "source": [
        "\"\"\"#Veamos cuales son las horas mas comunes para realizar este tipo de viaje.\n",
        "#fig = plt.figure()\n",
        "dicc = rdd_viaje.map(lambda x: (int(x['hour'][0:2]), 1)).countByKey()\n",
        "dicc_list = sorted(dicc.keys())\n",
        "plt.figure(figsize=(15,5))\n",
        "plt.title(\"Usuarios que realizan el viaje \"+origen+ \" --> \"+destino)\n",
        "plt.bar(dicc.keys(), dicc.values())\n",
        "plt.xlabel('Horas', fontsize=18)\n",
        "plt.ylabel('Cantidad de usuarios', fontsize=16)\n",
        "plt.show()\n",
        "#plt.xticks(dicc.keys(), dicc_list) No he conseguido que se ponga el numero en todos los contenedores\"\"\""
      ],
      "execution_count": 0,
      "outputs": []
    },
    {
      "cell_type": "code",
      "metadata": {
        "id": "DT0_WQ0R9uSB",
        "colab_type": "code",
        "colab": {}
      },
      "source": [
        "\"\"\"#Veamos si hay alguna diferencia en el tipo de usuarios que han realizado el viaje\n",
        "viaje_usu = rdd_viaje.map(lambda x: (x['user_type'], 1)).countByKey()\n",
        "\n",
        "print(viaje_usu)\n",
        "plt.pie(list(viaje_usu.values()), labels=list(viaje_usu.keys()),\n",
        "        autopct='%1.1f%%', shadow=True, startangle=90)\n",
        "plt.title(\"Viaje \"+origen+ \" --> \"+destino+\" por tipo de usuario\")\n",
        "plt.show()\"\"\""
      ],
      "execution_count": 0,
      "outputs": []
    },
    {
      "cell_type": "code",
      "metadata": {
        "id": "GIJd8QuR7tss",
        "colab_type": "code",
        "colab": {}
      },
      "source": [
        "\"\"\"#Veamos la edad de los usuarios que predomina realizando este viaje. \n",
        "rdd_viaje.map(lambda x: (x['age'], 1)).countByKey()\"\"\""
      ],
      "execution_count": 0,
      "outputs": []
    },
    {
      "cell_type": "code",
      "metadata": {
        "id": "78IrAbTkaHQf",
        "colab_type": "code",
        "colab": {}
      },
      "source": [
        "\"\"\"\n",
        "#Estudiemos ahora las medias en tiempo de todos los viajes, el coste del viaje, etc.\n",
        "import statistics as stats\n",
        "listaTiempos = rdd_viaje.map(lambda x: ([x['travel_time']])).reduce(lambda a, b: a + b)\n",
        "print('La media de tiempo empleado por otros usuarios es: ',stats.mean(listaTiempos), 'segundos')\n",
        "\"\"\""
      ],
      "execution_count": 0,
      "outputs": []
    },
    {
      "cell_type": "markdown",
      "metadata": {
        "id": "TsbmXr3w2wCW",
        "colab_type": "text"
      },
      "source": [
        "Esta media de tiempo incluye los viajes a cualquier tipo de hora, pero los que nos interesan son los que se realizan por la noche. Veamos ahora si realizar este trayecto por el día o por la noche afecta en el tiempo medio para recorrer el trayecto. Con este analisis, se verá si afecta el tráfico ya que es el principal causante del incremento en el tiempo de un viaje"
      ]
    },
    {
      "cell_type": "code",
      "metadata": {
        "id": "JuVv0eWrmtmx",
        "colab_type": "code",
        "colab": {}
      },
      "source": [
        "#Diferencias de los tiempos medios entre las horas nocturnas y las horas diurnas\n",
        "\n",
        "tiemposNoc = rdd_viaje.filter(horasNocturnas).map(lambda x: ([x['travel_time']])).reduce(lambda a, b: a + b)\n",
        "tiemposDiu = rdd_viaje.filter(lambda x: not(horasNocturnas(x))).map(lambda x: ([x['travel_time']])).reduce(lambda a, b: a + b)"
      ],
      "execution_count": 0,
      "outputs": []
    },
    {
      "cell_type": "code",
      "metadata": {
        "id": "T4xKJ-R07MB-",
        "colab_type": "code",
        "colab": {}
      },
      "source": [
        "mediaNocturna = stats.mean(tiemposNoc)\n",
        "mediaDiurna = stats.mean(tiemposDiu)\n",
        "print('Tiempo medio de viajes nocturnos es: ',mediaNocturna, 'segundos')\n",
        "print('Tiempo medio de viajes diurnos es: ',mediaDiurna, 'segundos')\n",
        "if mediaNocturna < mediaDiurna:\n",
        "  print(\"\\nEl tiempo para recorrer el trayecto si se ve afectado por el tráfico, reduciendolo, \\nen las horas nocturnas\")\n",
        "else:\n",
        "  print(\"El tráfico no afecta a este trayecto\")"
      ],
      "execution_count": 0,
      "outputs": []
    },
    {
      "cell_type": "markdown",
      "metadata": {
        "id": "BSVrsSg2kEQu",
        "colab_type": "text"
      },
      "source": [
        "En caso de no tener claro el trayecto para llegar al destino, le indicaremos al cliente que calles han sido las más transitadas realizando el viaje que se desea hacer."
      ]
    },
    {
      "cell_type": "code",
      "metadata": {
        "id": "bYEKj0PGvSir",
        "colab_type": "code",
        "colab": {}
      },
      "source": [
        "#Lo uso para ver como son los datos\n",
        "rdd_viaje.map(lambda x: x['track']).take(5)"
      ],
      "execution_count": 0,
      "outputs": []
    },
    {
      "cell_type": "code",
      "metadata": {
        "id": "x-Z8ZI0DGcqM",
        "colab_type": "code",
        "colab": {}
      },
      "source": [
        "#Tan solo estudiaremos los trayectos nocturnos para este caso ya que es lo que nos interesa.\n",
        "\n",
        "def obtenerCalles(line):\n",
        "  listaCalles = []\n",
        "  data = line['track']\n",
        "  for value in data['features']:\n",
        "    try:\n",
        "      calle = value['properties']['var'].split(\",\")\n",
        "      listaCalles.append(calle[4])\n",
        "    except:\n",
        "      None\n",
        "  if len(listaCalles) > 0:\n",
        "    return (listaCalles[-1], listaCalles[0]) #Porque el primer dato es el último que se recibe (de ahí el -1).\n",
        "\n",
        "rdd_calles = rdd_viaje.filter(horasNocturnas).filter(lambda x: x['user_type'] != 3 and x['track'] != None)\\\n",
        ".map(obtenerCalles).filter(lambda x: x != None)#.collect()#reduce(lambda x, y: [x[0] + y[0], x[1], y[1]])\n"
      ],
      "execution_count": 0,
      "outputs": []
    },
    {
      "cell_type": "code",
      "metadata": {
        "id": "08xZ85VukES6",
        "colab_type": "code",
        "colab": {}
      },
      "source": [
        "\"\"\"\n",
        "Veamos por un lado la primera calle más transitada para realizar el viaje y después la última que más\n",
        "se ha transtidado a la hora de realizar el viaje \n",
        "\"\"\"\n",
        "def eliminarNumero(line):\n",
        "  data = line.split(\" \")\n",
        "  try:\n",
        "    entero = int(data[-1])\n",
        "    modulo = len(data[-1])+1\n",
        "    return line[:-modulo]\n",
        "  except:\n",
        "    return line\n",
        "\n",
        "calleInicial = rdd_calles.map(lambda x: (eliminarNumero(x[0]), 1)).reduceByKey(lambda x, y: x+y)\\\n",
        "                         .sortBy(lambda x: x[1], False).first()\n",
        "\n",
        "calleFinal = rdd_calles.map(lambda x: (eliminarNumero(x[1]), 1)).reduceByKey(lambda x, y: x+y)\\\n",
        "                       .sortBy(lambda x: x[1], False).first()\n",
        "\n",
        "print(\"La primera calle más usada es: \", calleInicial)\n",
        "print(\"La última calle más usada es: \", calleFinal)\n"
      ],
      "execution_count": 0,
      "outputs": []
    },
    {
      "cell_type": "markdown",
      "metadata": {
        "id": "UuHsKmAwHR1w",
        "colab_type": "text"
      },
      "source": [
        "Hagamos ahora el mismo estudio que al principio y veamos la cantidad de huecos libres que hay en la estación de destino. "
      ]
    },
    {
      "cell_type": "code",
      "metadata": {
        "id": "Iu1Tt6i-IA6n",
        "colab_type": "code",
        "colab": {}
      },
      "source": [
        "def filtPorHora2(hora, rango):\n",
        "    horaViaje = int(horaCliente[0:2]) * 3600 + int(horaCliente[3:5]) * 60 + int(horaCliente[6:8]) + mediaNocturna\n",
        "    horaDatos = int(hora[0:2]) * 3600 + int(hora[3:5]) * 60 + int(hora[6:8])\n",
        "    if horaViaje - rango < 0:\n",
        "      return horaDatos < horaViaje + rango\n",
        "    else:\n",
        "      return horaViaje - rango < horaDatos < horaViaje + rango\n",
        "\n",
        "def calcularBasesLibres(lista):\n",
        "  #bicisLibres = []\n",
        "  for station in lista:\n",
        "    if station['number'] == destino:\n",
        "      return station['free_bases']\n",
        "\n",
        "basesLibres = rddE_Sit_fil.filter(lambda x: filtPorHora2(x['hour'], 3600)).map(lambda x: [calcularBasesLibres(x['station'])]).reduce(lambda a, b: a+b)\n",
        "\n",
        "print('La media de bicicletas libres respecto a la hora elegida es:',int(stats.mean(basesLibres)))\n",
        "#La media esta realizada para los datos obtenidos en el rango una hora respecto a la dicha por el cliente\n",
        "\n",
        "#Por lo tanto la probabilidad de que encuentre una bici disponible es la siguiente\n",
        "basesTotales = dicEstaciones[destino]['total_bases']\n",
        "prob = sum(basesLibres) / (basesTotales * len(basesLibres))\n",
        "print('La probabilidad de que haya una bicicleta libre es del', str(100*prob)+'%')"
      ],
      "execution_count": 0,
      "outputs": []
    },
    {
      "cell_type": "markdown",
      "metadata": {
        "id": "oi520IrV15h-",
        "colab_type": "text"
      },
      "source": [
        "# **Asesor de ruta biciMAD**\n",
        "Aquí, dada una estación de origen, una de destino y una hora del trayecto, calcularemos el tiempo medio necesitado realizar el trayecto, cuántas bicicletas suele haber disponibles en las estaciones, y si suele haber hueco en la estación final para poder colocar la bicicleta."
      ]
    },
    {
      "cell_type": "code",
      "metadata": {
        "id": "10A6l7Nx19Uo",
        "colab_type": "code",
        "colab": {}
      },
      "source": [
        "import statistics as stats"
      ],
      "execution_count": 0,
      "outputs": []
    },
    {
      "cell_type": "code",
      "metadata": {
        "id": "TWSVOZDm20ow",
        "colab_type": "code",
        "outputId": "f832322f-da0b-4f79-9cc7-1280c7da008c",
        "colab": {
          "base_uri": "https://localhost:8080/",
          "height": 55
        }
      },
      "source": [
        "\"\"\"\n",
        "#inputs\n",
        "origen = input('Estación de la que se desea partir: ') #57\n",
        "destino = input('Estación a la que se desea llegar: ') #38\n",
        "hora_Viaje = int(input('Hora a la que se desea realizar el viaje(HH): ')) #17\n",
        "\"\"\""
      ],
      "execution_count": 0,
      "outputs": [
        {
          "output_type": "execute_result",
          "data": {
            "text/plain": [
              "\"\\n#inputs\\norigen = input('Estación de la que se desea partir: ') #57\\ndestino = input('Estación a la que se desea llegar: ') #38\\nhora_Viaje = int(input('Hora a la que se desea realizar el viaje(HH): ')) #17\\n\""
            ]
          },
          "metadata": {
            "tags": []
          },
          "execution_count": 17
        }
      ]
    },
    {
      "cell_type": "code",
      "metadata": {
        "id": "WVAJdvV026YJ",
        "colab_type": "code",
        "colab": {}
      },
      "source": [
        "#Intentemos ver ahora la probabilidad de encontrar bici a la hora que nos dice el cliente.\n",
        "#De momento establezco yo la hora por comodidad, la estacion de origen y destino tambien\n",
        "origen = '57' #string\n",
        "destino = '38' #string\n",
        "hora_Viaje = int('03') #int"
      ],
      "execution_count": 0,
      "outputs": []
    },
    {
      "cell_type": "code",
      "metadata": {
        "id": "BROejD4u3EzC",
        "colab_type": "code",
        "outputId": "ab4ae588-ab75-45a3-ba76-e2978e8e7656",
        "colab": {
          "base_uri": "https://localhost:8080/",
          "height": 52
        }
      },
      "source": [
        "#Función que se queda con los viajes alrededor de la hora solicitada\n",
        "def rangoTiempo(hora, rango, hora_target):\n",
        "    hora = hora.split(\":\")\n",
        "    h = int(hora[0])\n",
        "    m = int(hora[1])\n",
        "    hora = h + m/60.0\n",
        "    #print(hora)\n",
        "    if (hora_target - rango < 0):\n",
        "      return((hora < hora_target + rango) or 24 + hora_target - rango < hora)\n",
        "    else:\n",
        "      return(hora_target - rango < hora and hora < hora_target + rango)\n",
        "\n",
        "#rangoTiempo('03:00:00', 1, 3.5)"
      ],
      "execution_count": 0,
      "outputs": [
        {
          "output_type": "stream",
          "text": [
            "3.0\n"
          ],
          "name": "stdout"
        },
        {
          "output_type": "execute_result",
          "data": {
            "text/plain": [
              "True"
            ]
          },
          "metadata": {
            "tags": []
          },
          "execution_count": 19
        }
      ]
    },
    {
      "cell_type": "code",
      "metadata": {
        "id": "y-PZ9qjf3WNZ",
        "colab_type": "code",
        "colab": {}
      },
      "source": [
        "#Aquí hacemos un primer filtro quedándonos con todos los trayectos que parten de \n",
        "#la estación origen y terminan en la estacion destino\n",
        "rdd_trayecto = rdd_usages['2019'].filter(lambda x: x['start'] == int(origen) and x['end'] == int(destino))"
      ],
      "execution_count": 0,
      "outputs": []
    },
    {
      "cell_type": "code",
      "metadata": {
        "id": "KE6Cf_4E3YTx",
        "colab_type": "code",
        "outputId": "92a272fe-d61b-494a-9c39-a8e3b1983c4f",
        "colab": {
          "base_uri": "https://localhost:8080/",
          "height": 35
        }
      },
      "source": [
        "#Debug\n",
        "print('Total de viajes similares al del cliente sin tener en cuenta el horario: ', rdd_trayecto.count())"
      ],
      "execution_count": 0,
      "outputs": [
        {
          "output_type": "stream",
          "text": [
            "Total de viajes similares al del cliente sin tener en cuenta el horario:  690\n"
          ],
          "name": "stdout"
        }
      ]
    },
    {
      "cell_type": "code",
      "metadata": {
        "id": "3elQw2rq8prH",
        "colab_type": "code",
        "outputId": "ad1d1bd5-257e-4463-a3ea-297450351d5b",
        "colab": {
          "base_uri": "https://localhost:8080/",
          "height": 343
        }
      },
      "source": [
        "#Veamos cuales son las horas más comunes para realizar este tipo de viaje.\n",
        "#fig = plt.figure()\n",
        "dicc = rdd_trayecto.map(lambda x: (int(x['hour'][0:2]), 1)).countByKey()\n",
        "dicc_list = sorted(dicc.keys())\n",
        "plt.figure(figsize=(15,5))\n",
        "plt.title(\"Usuarios que realizan el viaje \"+origen+ \" --> \"+destino)\n",
        "plt.bar(dicc.keys(), dicc.values())\n",
        "plt.xlabel('Horas', fontsize=18)\n",
        "plt.ylabel('Cantidad de usuarios', fontsize=16)\n",
        "plt.show()\n",
        "#plt.xticks(dicc.keys(), dicc_list) No he conseguido que se ponga el numero en todos los contenedores"
      ],
      "execution_count": 0,
      "outputs": [
        {
          "output_type": "display_data",
          "data": {
            "image/png": "[encoded data removed]",
            "text/plain": [
              "<Figure size 1080x360 with 1 Axes>"
            ]
          },
          "metadata": {
            "tags": [],
            "needs_background": "light"
          }
        }
      ]
    },
    {
      "cell_type": "code",
      "metadata": {
        "id": "XIt66Zsa3byV",
        "colab_type": "code",
        "colab": {}
      },
      "source": [
        "#Y ahora filtramos ya solo en el rango de horas especificado. \n",
        "#En este caso 1 hora alrededor de la hora elegida\n",
        "rdd_viaje = rdd_trayecto.filter(lambda x: rangoTiempo(x['hour'], 1.01, hora_Viaje))"
      ],
      "execution_count": 0,
      "outputs": []
    },
    {
      "cell_type": "code",
      "metadata": {
        "id": "4QslQE0W5Ro8",
        "colab_type": "code",
        "outputId": "91102782-1408-4d9e-c8dc-7f4c67662992",
        "colab": {
          "base_uri": "https://localhost:8080/",
          "height": 35
        }
      },
      "source": [
        "print('Total de viajes similares al del cliente alrededor de la hora especificada: ', rdd_viaje.count())"
      ],
      "execution_count": 0,
      "outputs": [
        {
          "output_type": "stream",
          "text": [
            "Total de viajes similares al del cliente alrededor de la hora especificada:  88\n"
          ],
          "name": "stdout"
        }
      ]
    },
    {
      "cell_type": "code",
      "metadata": {
        "id": "M4MPoBzh667V",
        "colab_type": "code",
        "outputId": "fb2dc922-b8bd-4155-840b-b6d3f8890da1",
        "colab": {
          "base_uri": "https://localhost:8080/",
          "height": 35
        }
      },
      "source": [
        "def prititime(segundos):\n",
        "  m = int(segundos // 60)\n",
        "  s = int(segundos % 60)\n",
        "  return \"{0} minutos y {1} segundos\".format(m,s)\n",
        "\n",
        "#Estudiemos ahora las medias en tiempo de todos los viajes similares a esa hora\n",
        "listaTiempos = rdd_viaje.map(lambda x: ([x['travel_time']])).reduce(lambda a, b: a + b)\n",
        "media_tiempo_viaje = stats.mean(listaTiempos)\n",
        "print('La media de tiempo empleado por otros usuarios es',prititime(media_tiempo_viaje))"
      ],
      "execution_count": 0,
      "outputs": [
        {
          "output_type": "stream",
          "text": [
            "La media de tiempo empleado por otros usuarios es 6 minutos y 37 segundos\n"
          ],
          "name": "stdout"
        }
      ]
    },
    {
      "cell_type": "code",
      "metadata": {
        "id": "4I0vRZhe7Ahu",
        "colab_type": "code",
        "colab": {}
      },
      "source": [
        "def estaciones(lista):\n",
        "  filtro = []\n",
        "  for estacion in lista['station']:\n",
        "    if estacion['number'] == origen or estacion['number'] == destino:\n",
        "      filtro.append(estacion)\n",
        "  return {\"day\":lista['day'],\n",
        "          \"hour\":lista['hour'],\n",
        "          \"station\":filtro}\n",
        "\n",
        "\"\"\"\n",
        "rdd_stations['201901a06'] = rdd_stations['201901'].union(rdd_stations['201902'].union(rdd_stations['201903'].union(rdd_stations['201904'].union(rdd_stations['201905'].union(rdd_stations['201906'])))))\n",
        "\"\"\"\n",
        "\n",
        "#rdd_Sit_fil contiene solo los datos de las dos estaciones,\n",
        "#la de partida y la de llegada\n",
        "rdd_Sit_fil = rdd_stations['2019'].map(estaciones)"
      ],
      "execution_count": 0,
      "outputs": []
    },
    {
      "cell_type": "code",
      "metadata": {
        "id": "t12G0pXA7HeN",
        "colab_type": "code",
        "colab": {}
      },
      "source": [
        "#Debug\n",
        "rdd_Sit_fil.take(3)"
      ],
      "execution_count": 0,
      "outputs": []
    },
    {
      "cell_type": "code",
      "metadata": {
        "id": "Iv3Z1JBS7RXf",
        "colab_type": "code",
        "colab": {}
      },
      "source": [
        "def calcularBasesLibres(lista, n_estacion):\n",
        "  for station in lista:\n",
        "    if station['number'] == n_estacion:\n",
        "      return station['free_bases']\n",
        "\n",
        "def calcularBicisLibres(lista, n_estacion):\n",
        "  for station in lista:\n",
        "    if station['number'] == n_estacion:\n",
        "      return station['dock_bikes'] - station['reservations_count'] - station['no_available']\n",
        "\n",
        "bicisLibres = rdd_Sit_fil.filter(lambda x: rangoTiempo(x['hour'], 1.5, hora_Viaje))\\\n",
        "              .map(lambda x: [calcularBicisLibres(x['station'], origen)]).reduce(lambda a, b: a+b)\n",
        "basesLibres = rdd_Sit_fil.filter(lambda x: rangoTiempo(x['hour'], 1.5, media_tiempo_viaje / 3600.0))\\\n",
        "              .map(lambda x: [calcularBasesLibres(x['station'], destino)]).reduce(lambda a, b: a+b)"
      ],
      "execution_count": 0,
      "outputs": []
    },
    {
      "cell_type": "code",
      "metadata": {
        "id": "L9BiZ8fA7cL3",
        "colab_type": "code",
        "outputId": "3a9f1efb-6f63-4326-f431-8229641f14f5",
        "colab": {
          "base_uri": "https://localhost:8080/",
          "height": 52
        }
      },
      "source": [
        "totalBasesPorEstacion = {}\n",
        "stationsLst = rdd_Sit_fil.take(1)[0]['station']\n",
        "totalBasesPorEstacion[stationsLst[0]['number']] = stationsLst[0]['total_bases']\n",
        "totalBasesPorEstacion[stationsLst[1]['number']] = stationsLst[1]['total_bases']\n",
        "\n",
        "print('La media de bicicletas libres en', origen, 'respecto a la hora elegida es:',int(stats.mean(bicisLibres)), '/', totalBasesPorEstacion[origen])\n",
        "print('La media de bases libres en', destino ,'respecto a la hora estimada de llegada es:',int(stats.mean(basesLibres)), '/', totalBasesPorEstacion[destino])"
      ],
      "execution_count": 0,
      "outputs": [
        {
          "output_type": "stream",
          "text": [
            "La media de bicicletas libres en 57 respecto a la hora elegida es: 8 / 24\n",
            "La media de bases libres en 38 respecto a la hora estimada de llegada es: 4 / 24\n"
          ],
          "name": "stdout"
        }
      ]
    },
    {
      "cell_type": "markdown",
      "metadata": {
        "id": "RI8neE6AwYiA",
        "colab_type": "text"
      },
      "source": [
        "# **Ciclos**\n",
        "Vemos la parte de los triciclos y demás."
      ]
    },
    {
      "cell_type": "code",
      "metadata": {
        "id": "iULdv6nxwyWH",
        "colab_type": "code",
        "colab": {}
      },
      "source": [
        "#rddprima da el formato (('usuario','tipo'),[lista de [partida,llegada]])\n",
        "rddprima = rdd_usages['2019'].map(lambda x: ((x['user_day_code'],x['user_type']),[x['start'],x['end']]))\\\n",
        "                              .groupByKey().map(lambda x: (x[0],list(x[1])))"
      ],
      "execution_count": 0,
      "outputs": []
    },
    {
      "cell_type": "code",
      "metadata": {
        "id": "LQXy6l7CxZVX",
        "colab_type": "code",
        "colab": {}
      },
      "source": [
        "#adic pasa la lista de pares [partida,llegada] en un diccionario con\n",
        "#claves las estaciones de partida y valores la lista de estaciones de llegada\n",
        "def adic(ldl):\n",
        "  d = {}\n",
        "  for elem in ldl:\n",
        "    key,value = str(elem[0]),str(elem[1])\n",
        "    if key in d:\n",
        "      d[key].append(value)\n",
        "    else:\n",
        "      d[key]=[value]\n",
        "  return d"
      ],
      "execution_count": 0,
      "outputs": []
    },
    {
      "cell_type": "code",
      "metadata": {
        "id": "AYjZPctaxdW9",
        "colab_type": "code",
        "colab": {}
      },
      "source": [
        "separador = \"_\"\n",
        "#unomas actualiza el diccionario con un trayecto entre estaciones\n",
        "#comprobando si ese paso resulta en un ciclo o no\n",
        "def unomas(dic):\n",
        "  dic2 = {}\n",
        "  dk = list(dic.keys())\n",
        "  for key in dk:\n",
        "    if not isinstance(key, tuple): #todavía no es un ciclo\n",
        "      for elem in dic[key]:    \n",
        "        if key==elem:\n",
        "          dic2[tuple(set([key]))]=1 #[integer] indica ciclo longitud 1\n",
        "        else:\n",
        "          spl = key.split(separador)\n",
        "          if elem in spl:\n",
        "            pos = spl.index(elem)\n",
        "            lis = spl[pos:]\n",
        "            dic2[tuple(set(lis))] = len(spl)-pos #[integer] indica ciclo\n",
        "          else:\n",
        "            try:\n",
        "              dic2[key+separador+elem]=dic[elem]\n",
        "            except KeyError:\n",
        "              pass\n",
        "  dic2.update(dic)\n",
        "  return dic2"
      ],
      "execution_count": 0,
      "outputs": []
    },
    {
      "cell_type": "code",
      "metadata": {
        "id": "96ZmwG3Wxgg8",
        "colab_type": "code",
        "colab": {}
      },
      "source": [
        "#sigue llama recursivamente a unomas para recorrer el grafo del usuario\n",
        "#en profundidad hasta que se obtiene todos los trayectos posibles\n",
        "def sigue(dic):\n",
        "  if len(dic) == len(unomas(dic)):\n",
        "    return dic\n",
        "  else:\n",
        "    return (sigue(unomas(dic)))"
      ],
      "execution_count": 0,
      "outputs": []
    },
    {
      "cell_type": "code",
      "metadata": {
        "id": "688TZKzIbcCx",
        "colab_type": "code",
        "colab": {
          "base_uri": "https://localhost:8080/",
          "height": 85
        },
        "outputId": "1c5079ad-2970-4bb7-c1bf-8f94c6e8ba28"
      },
      "source": [
        "#ejemplos para entender la función sigue (recursivamente unomas)\n",
        "ejemplo = [[1,2], [2,1],[2,3],[3,4],[4,2],[4,4],[4,5],[5,6], [6,1]]\n",
        "ejemploadic = adic(ejemplo)\n",
        "ejemplociclos = sigue(ejemploadic) # los ciclos son los que tienen como clave una tupla\n",
        "for key in ejemplociclos.keys():\n",
        "  if isinstance(key,tuple):\n",
        "    print(key,\"es ciclo de longitud\",ejemplociclos[key])"
      ],
      "execution_count": 327,
      "outputs": [
        {
          "output_type": "stream",
          "text": [
            "('2', '5', '6', '1', '4', '3') es ciclo de longitud 6\n",
            "('2', '1') es ciclo de longitud 2\n",
            "('2', '4', '3') es ciclo de longitud 3\n",
            "('4',) es ciclo de longitud 1\n"
          ],
          "name": "stdout"
        }
      ]
    },
    {
      "cell_type": "code",
      "metadata": {
        "id": "Dew-oqNBxjmy",
        "colab_type": "code",
        "colab": {}
      },
      "source": [
        "#tiene ciclos es un filtro booleano que indica si el usuario\n",
        "#ha realizado algún ciclo en ese día\n",
        "def tieneciclos(dic):\n",
        "  resultado = False\n",
        "  for key,value in dic.items():\n",
        "    if isinstance(key,tuple):\n",
        "      resultado = True\n",
        "  return resultado"
      ],
      "execution_count": 0,
      "outputs": []
    },
    {
      "cell_type": "code",
      "metadata": {
        "id": "eDNTvt6cxlwV",
        "colab_type": "code",
        "colab": {}
      },
      "source": [
        "#dameciclos se queda con las entradas del diccionario que señalan\n",
        "#los ciclos, con clave ahora la longitud\n",
        "def dameciclos(dic):\n",
        "  dic2 = {}\n",
        "  for key,value in dic.items():\n",
        "    if isinstance(key,tuple):\n",
        "      try:\n",
        "        dic2[value].append(key)\n",
        "      except:\n",
        "        dic2[value]=[key]\n",
        "  return dic2"
      ],
      "execution_count": 0,
      "outputs": []
    },
    {
      "cell_type": "code",
      "metadata": {
        "id": "XKGygcx_LydV",
        "colab_type": "code",
        "colab": {}
      },
      "source": [
        "#elimina los ciclos duplicados: al tratar las rdds a veces no consigue\n",
        "#obtener la misma tupla del ciclo como clave, igual sale desordenada\n",
        "#y considera que es otro ciclo distinto, teniendo la misma longitud y las mismas\n",
        "#estaciones, por eso aquí eliminamos los duplicados\n",
        "def eliminadup(dic):\n",
        "  daux = {}\n",
        "  for key,val in dic.items():\n",
        "    for elem in val:\n",
        "      try:\n",
        "        if set(elem) in daux[key]:\n",
        "          pass\n",
        "        else:\n",
        "          daux[key].append(set(elem))\n",
        "      except:\n",
        "        daux[key]=[set(elem)]\n",
        "  dic2 = {}\n",
        "  for key in daux.keys():\n",
        "    dic2[key]=[]\n",
        "    for val in daux[key]:\n",
        "      dic2[key].append(tuple(val))\n",
        "  return dic2"
      ],
      "execution_count": 0,
      "outputs": []
    },
    {
      "cell_type": "code",
      "metadata": {
        "id": "LfMeqwp0x1F9",
        "colab_type": "code",
        "colab": {}
      },
      "source": [
        "#rdd_ciclos tiene para cada usuario, los ciclos que ha hecho en un diccionario\n",
        "#cuyasclaves son las longitudes de los ciclos\n",
        "rdd_ciclos = rddprima.mapValues(lambda x: adic(x)).mapValues(lambda x: sigue(x))\\\n",
        "          .filter(lambda x: len(x[1])>0).filter(lambda x: tieneciclos(x[1]))\\\n",
        "          .mapValues(lambda x:dameciclos(x)).mapValues(lambda x:eliminadup(x))"
      ],
      "execution_count": 0,
      "outputs": []
    },
    {
      "cell_type": "code",
      "metadata": {
        "id": "U6hOdIzzyvXG",
        "colab_type": "code",
        "colab": {
          "base_uri": "https://localhost:8080/",
          "height": 238
        },
        "outputId": "6a0aa527-2ab4-4729-e96a-a59df460da08"
      },
      "source": [
        "#ejemplo con la rdd_ciclos\n",
        "rdd_ciclos.filter(lambda x: len(x[1])>1).take(5)"
      ],
      "execution_count": 333,
      "outputs": [
        {
          "output_type": "execute_result",
          "data": {
            "text/plain": [
              "[(('0cca67b7422ae0942b9bfa9725ca7ee9638204c82e0872884aa43e84772c9b88', 1),\n",
              "  {2: [('131', '15')], 3: [('160', '131', '15')]}),\n",
              " (('dd4eba6fce6c03c96adc785e70472d7c3a8ac66e3c70a1ad198beab4a3948d5d', 1),\n",
              "  {1: [('13',)],\n",
              "   2: [('34', '13')],\n",
              "   3: [('17', '120', '13')],\n",
              "   4: [('34', '17', '120', '13')]}),\n",
              " (('38a62ad6add589ae13017a6f886fd3216fc0a64d1cc27def56eaf81db5c9c885', 1),\n",
              "  {1: [('58',)], 2: [('130', '58')], 5: [('58', '168', '115', '6', '163')]}),\n",
              " (('26b7585d3ae46e6db06bb26f38b915fedf203e82d438a957a90addd251413bd1', 1),\n",
              "  {2: [('149', '105')], 3: [('89', '105', '76')]}),\n",
              " (('7559e87fcb520d63abbad7c2ed9e8d19d0a0f5eb5485fb822f0b9d161687ddd6', 1),\n",
              "  {1: [('42',)], 2: [('28', '42')]})]"
            ]
          },
          "metadata": {
            "tags": []
          },
          "execution_count": 333
        }
      ]
    },
    {
      "cell_type": "code",
      "metadata": {
        "id": "jq4CyxdeyCuT",
        "colab_type": "code",
        "colab": {
          "base_uri": "https://localhost:8080/",
          "height": 102
        },
        "outputId": "2e2a5ae4-66b0-4b81-e998-1b19bdc103cd"
      },
      "source": [
        "for m in range(6,11): # para ver ciclos de qué longitudes hemos encontrado\n",
        "  print(m,not(rdd_ciclos.filter(lambda x: m in x[1].keys()).mapValues(lambda x: x[m]).isEmpty()))"
      ],
      "execution_count": 334,
      "outputs": [
        {
          "output_type": "stream",
          "text": [
            "6 True\n",
            "7 True\n",
            "8 True\n",
            "9 True\n",
            "10 True\n"
          ],
          "name": "stdout"
        }
      ]
    },
    {
      "cell_type": "code",
      "metadata": {
        "id": "tsgDlkWxyOlY",
        "colab_type": "code",
        "colab": {
          "base_uri": "https://localhost:8080/",
          "height": 204
        },
        "outputId": "39834e86-ee56-4c87-a389-cf5029aad8d6"
      },
      "source": [
        "print(\"GENERAL\")\n",
        "for i in range(1,11):\n",
        "    aux = rdd_ciclos.filter(lambda x: i in x[1].keys()).mapValues(lambda x: x[i])\n",
        "    print(\"ciclos de longitud\",i,\":\",aux.count())"
      ],
      "execution_count": 367,
      "outputs": [
        {
          "output_type": "stream",
          "text": [
            "GENERAL\n",
            "ciclos de longitud 1 : 42368\n",
            "ciclos de longitud 2 : 161489\n",
            "ciclos de longitud 3 : 10595\n",
            "ciclos de longitud 4 : 1161\n",
            "ciclos de longitud 5 : 202\n",
            "ciclos de longitud 6 : 58\n",
            "ciclos de longitud 7 : 20\n",
            "ciclos de longitud 8 : 8\n",
            "ciclos de longitud 9 : 2\n",
            "ciclos de longitud 10 : 2\n"
          ],
          "name": "stdout"
        }
      ]
    },
    {
      "cell_type": "code",
      "metadata": {
        "id": "3WktH58jyQNp",
        "colab_type": "code",
        "colab": {
          "base_uri": "https://localhost:8080/",
          "height": 204
        },
        "outputId": "39f09ce2-58cd-4316-efc5-04529b8b0646"
      },
      "source": [
        "print(\"TRABAJADORES\")\n",
        "for i in range(1,11):\n",
        "    aux = rdd_ciclos.filter(lambda x: x[0][1]==3).filter(lambda x: i in x[1].keys()).mapValues(lambda x: x[i])\n",
        "    print(\"ciclos de longitud\",i,\":\",aux.count())"
      ],
      "execution_count": 368,
      "outputs": [
        {
          "output_type": "stream",
          "text": [
            "TRABAJADORES\n",
            "ciclos de longitud 1 : 3305\n",
            "ciclos de longitud 2 : 62\n",
            "ciclos de longitud 3 : 10\n",
            "ciclos de longitud 4 : 3\n",
            "ciclos de longitud 5 : 3\n",
            "ciclos de longitud 6 : 0\n",
            "ciclos de longitud 7 : 2\n",
            "ciclos de longitud 8 : 1\n",
            "ciclos de longitud 9 : 0\n",
            "ciclos de longitud 10 : 0\n"
          ],
          "name": "stdout"
        }
      ]
    },
    {
      "cell_type": "code",
      "metadata": {
        "id": "yfCyOXIiyM8q",
        "colab_type": "code",
        "colab": {}
      },
      "source": [
        "#rdd_triciclos se queda con los ciclos de longitud 3, que son\n",
        "#los más comunes sin contar los de ida y vuelta (return trips)\n",
        "rdd_triciclos = rdd_ciclos.filter(lambda x: 3 in x[1].keys()).mapValues(lambda x: x[3])"
      ],
      "execution_count": 0,
      "outputs": []
    },
    {
      "cell_type": "code",
      "metadata": {
        "id": "bpho0Jp7eeOF",
        "colab_type": "code",
        "colab": {}
      },
      "source": [
        "#esto es para probar un usuario concreto\n",
        "# luego habrá que eliminarlo\n",
        "def espia(usu):\n",
        "  aux = rddprima.filter(lambda x: x[0][0]==usu).collect()\n",
        "  print(\"usuario de tipo\",aux[0][0][1])\n",
        "  print(\"\\ntrayectos:\")\n",
        "  print(aux[0][1])\n",
        "  print(\"\\nciclos:\")\n",
        "  print(rdd_ciclos.filter(lambda x: x[0][0]==usu).collect()[0][1])"
      ],
      "execution_count": 0,
      "outputs": []
    },
    {
      "cell_type": "code",
      "metadata": {
        "id": "dhrBZqZ-3qZ8",
        "colab_type": "code",
        "colab": {
          "base_uri": "https://localhost:8080/",
          "height": 136
        },
        "outputId": "ecd830d0-1d5a-49c7-e485-d1b36c6df65a"
      },
      "source": [
        "usu = 'dd4eba6fce6c03c96adc785e70472d7c3a8ac66e3c70a1ad198beab4a3948d5d'\n",
        "espia(usu)"
      ],
      "execution_count": 366,
      "outputs": [
        {
          "output_type": "stream",
          "text": [
            "usuario de tipo 1\n",
            "\n",
            "trayectos\n",
            "[[13, 17], [17, 10], [34, 13], [10, 43], [43, 90], [91, 34], [34, 17], [17, 120], [120, 13], [13, 13], [13, 34]]\n",
            "\n",
            "ciclos\n",
            "{3: [('17', '120', '13')], 1: [('13',)], 4: [('34', '17', '120', '13')], 2: [('34', '13')]}\n"
          ],
          "name": "stdout"
        }
      ]
    },
    {
      "cell_type": "code",
      "metadata": {
        "id": "c83pYYpSenqU",
        "colab_type": "code",
        "colab": {
          "base_uri": "https://localhost:8080/",
          "height": 51
        },
        "outputId": "91edccba-9f5c-4b55-9d8e-39e2882fcba5"
      },
      "source": [
        "rddprima.filter(lambda x: x[0][0]==usu).collect()"
      ],
      "execution_count": 358,
      "outputs": [
        {
          "output_type": "execute_result",
          "data": {
            "text/plain": [
              "[(('7559e87fcb520d63abbad7c2ed9e8d19d0a0f5eb5485fb822f0b9d161687ddd6', 1),\n",
              "  [[42, 42], [42, 28], [28, 42]])]"
            ]
          },
          "metadata": {
            "tags": []
          },
          "execution_count": 358
        }
      ]
    },
    {
      "cell_type": "code",
      "metadata": {
        "id": "b7s8IUJ5963x",
        "colab_type": "code",
        "colab": {
          "base_uri": "https://localhost:8080/",
          "height": 51
        },
        "outputId": "ea8dfd7e-5530-4d9f-9935-f43ddf3ee4ec"
      },
      "source": [
        "rdd_ciclos.filter(lambda x: x[0][0]==usu).collect()"
      ],
      "execution_count": 359,
      "outputs": [
        {
          "output_type": "execute_result",
          "data": {
            "text/plain": [
              "[(('7559e87fcb520d63abbad7c2ed9e8d19d0a0f5eb5485fb822f0b9d161687ddd6', 1),\n",
              "  {1: [('42',)], 2: [('28', '42')]})]"
            ]
          },
          "metadata": {
            "tags": []
          },
          "execution_count": 359
        }
      ]
    }
  ]
}